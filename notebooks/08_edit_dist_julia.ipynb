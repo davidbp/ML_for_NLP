{
 "cells": [
  {
   "cell_type": "code",
   "execution_count": 1,
   "metadata": {},
   "outputs": [],
   "source": [
    "using CSV"
   ]
  },
  {
   "cell_type": "code",
   "execution_count": 2,
   "metadata": {},
   "outputs": [],
   "source": [
    "words_nltk = CSV.read(\"words_nltk.csv\");\n",
    "words_nltk = Array(words_nltk[:2]);"
   ]
  },
  {
   "cell_type": "code",
   "execution_count": 3,
   "metadata": {},
   "outputs": [
    {
     "data": {
      "text/plain": [
       "edit_distance (generic function with 1 method)"
      ]
     },
     "execution_count": 3,
     "metadata": {},
     "output_type": "execute_result"
    }
   ],
   "source": [
    "function edit_distance(X::String,Y::String)\n",
    "    len_x = length(X)\n",
    "    len_y = length(Y)\n",
    "    D = zeros(Int, len_x+1,len_y+1)\n",
    "\n",
    "    @inbounds for i in 1:(len_x+1)\n",
    "        for j in 1:(len_y+1)\n",
    "            if i==1\n",
    "                D[i,j] = j\n",
    "            elseif j==1\n",
    "                D[i,j] = i\n",
    "            elseif X[i-1] == Y[j-1]\n",
    "                D[i,j] = D[i-1,j-1]\n",
    "            else\n",
    "                D[i,j] = 1+min(D[i,j-1], D[i-1,j], D[i-1,j-1])\n",
    "            end\n",
    "        end\n",
    "    end\n",
    "    return D[len_x,len_y]\n",
    "end"
   ]
  },
  {
   "cell_type": "code",
   "execution_count": 4,
   "metadata": {
    "scrolled": true
   },
   "outputs": [
    {
     "data": {
      "text/plain": [
       "3"
      ]
     },
     "execution_count": 4,
     "metadata": {},
     "output_type": "execute_result"
    }
   ],
   "source": [
    "edit_distance(\"lik\",\"cat\")"
   ]
  },
  {
   "cell_type": "code",
   "execution_count": 5,
   "metadata": {},
   "outputs": [],
   "source": [
    "using BenchmarkTools"
   ]
  },
  {
   "cell_type": "code",
   "execution_count": 6,
   "metadata": {
    "scrolled": true
   },
   "outputs": [
    {
     "data": {
      "text/plain": [
       "BenchmarkTools.Trial: \n",
       "  memory estimate:  1.14 KiB\n",
       "  allocs estimate:  1\n",
       "  --------------\n",
       "  minimum time:     529.132 ns (0.00% GC)\n",
       "  median time:      544.116 ns (0.00% GC)\n",
       "  mean time:        792.770 ns (28.40% GC)\n",
       "  maximum time:     441.130 μs (99.82% GC)\n",
       "  --------------\n",
       "  samples:          10000\n",
       "  evals/sample:     190"
      ]
     },
     "execution_count": 6,
     "metadata": {},
     "output_type": "execute_result"
    }
   ],
   "source": [
    "@benchmark edit_distance(\"exponential\", \"polynomial\")"
   ]
  },
  {
   "cell_type": "code",
   "execution_count": 35,
   "metadata": {},
   "outputs": [
    {
     "data": {
      "text/plain": [
       "compute_distances (generic function with 1 method)"
      ]
     },
     "execution_count": 35,
     "metadata": {},
     "output_type": "execute_result"
    }
   ],
   "source": [
    "function compute_distances(mistake,words) \n",
    "    cy_distances = []\n",
    "    for word in words\n",
    "        #ed = edit_distance(mistake, word)\n",
    "        push!(cy_distances,edit_distance(mistake, word))\n",
    "    end\n",
    "    return cy_distances\n",
    "end"
   ]
  },
  {
   "cell_type": "code",
   "execution_count": 100,
   "metadata": {},
   "outputs": [
    {
     "name": "stdout",
     "output_type": "stream",
     "text": [
      "  0.188767 seconds (236.76 k allocations: 181.195 MiB)\n"
     ]
    },
    {
     "data": {
      "text/plain": [
       "\"draine\""
      ]
     },
     "execution_count": 100,
     "metadata": {},
     "output_type": "execute_result"
    }
   ],
   "source": [
    "mistake = \"drauing\"\n",
    "@time distances = compute_distances(mistake,words_nltk); closest_word = words_nltk[argmin(distances)]"
   ]
  },
  {
   "cell_type": "code",
   "execution_count": 101,
   "metadata": {},
   "outputs": [
    {
     "data": {
      "text/plain": [
       "BenchmarkTools.Trial: \n",
       "  memory estimate:  181.19 MiB\n",
       "  allocs estimate:  236754\n",
       "  --------------\n",
       "  minimum time:     149.058 ms (0.00% GC)\n",
       "  median time:      157.181 ms (0.00% GC)\n",
       "  mean time:        188.015 ms (13.60% GC)\n",
       "  maximum time:     842.787 ms (81.91% GC)\n",
       "  --------------\n",
       "  samples:          27\n",
       "  evals/sample:     1"
      ]
     },
     "execution_count": 101,
     "metadata": {},
     "output_type": "execute_result"
    }
   ],
   "source": [
    "@benchmark compute_distances(mistake,words_nltk)"
   ]
  },
  {
   "cell_type": "code",
   "execution_count": null,
   "metadata": {},
   "outputs": [],
   "source": []
  },
  {
   "cell_type": "code",
   "execution_count": 45,
   "metadata": {},
   "outputs": [
    {
     "data": {
      "text/plain": [
       "compute_distances2 (generic function with 1 method)"
      ]
     },
     "execution_count": 45,
     "metadata": {},
     "output_type": "execute_result"
    }
   ],
   "source": [
    "function compute_distances2(mistake,words) \n",
    "    cy_distances = zeros(Int64,length(words))\n",
    "    for (i,word) in enumerate(words)\n",
    "        cy_distances[i] = edit_distance(mistake, word)\n",
    "    end\n",
    "    return cy_distances\n",
    "end"
   ]
  },
  {
   "cell_type": "code",
   "execution_count": 46,
   "metadata": {},
   "outputs": [],
   "source": [
    "using BenchmarkTools"
   ]
  },
  {
   "cell_type": "code",
   "execution_count": 47,
   "metadata": {},
   "outputs": [
    {
     "name": "stdout",
     "output_type": "stream",
     "text": [
      "  0.179847 seconds (250.14 k allocations: 180.639 MiB)\n"
     ]
    },
    {
     "data": {
      "text/plain": [
       "\"draine\""
      ]
     },
     "execution_count": 47,
     "metadata": {},
     "output_type": "execute_result"
    }
   ],
   "source": [
    "mistake = \"drauing\"\n",
    "@time distances = compute_distances2(mistake,words_nltk); closest_word = words_nltk[argmin(distances)]"
   ]
  },
  {
   "cell_type": "code",
   "execution_count": 52,
   "metadata": {},
   "outputs": [
    {
     "data": {
      "text/plain": [
       "BenchmarkTools.Trial: \n",
       "  memory estimate:  180.00 MiB\n",
       "  allocs estimate:  236738\n",
       "  --------------\n",
       "  minimum time:     146.714 ms (0.00% GC)\n",
       "  median time:      150.443 ms (0.00% GC)\n",
       "  mean time:        174.335 ms (13.18% GC)\n",
       "  maximum time:     814.746 ms (81.81% GC)\n",
       "  --------------\n",
       "  samples:          29\n",
       "  evals/sample:     1"
      ]
     },
     "execution_count": 52,
     "metadata": {},
     "output_type": "execute_result"
    }
   ],
   "source": [
    "@benchmark compute_distances2($mistake, $words_nltk)"
   ]
  },
  {
   "cell_type": "code",
   "execution_count": 60,
   "metadata": {},
   "outputs": [
    {
     "name": "stdout",
     "output_type": "stream",
     "text": [
      "  0.000272 seconds (7 allocations: 1.806 MiB)\n"
     ]
    }
   ],
   "source": [
    "@time cy_distances = zeros(Int64,length(words_nltk));"
   ]
  },
  {
   "cell_type": "code",
   "execution_count": 61,
   "metadata": {},
   "outputs": [],
   "source": [
    "### reuse"
   ]
  },
  {
   "cell_type": "code",
   "execution_count": 58,
   "metadata": {},
   "outputs": [
    {
     "data": {
      "text/plain": [
       "compute_distances3 (generic function with 1 method)"
      ]
     },
     "execution_count": 58,
     "metadata": {},
     "output_type": "execute_result"
    }
   ],
   "source": [
    "function compute_distances3(mistake,words) \n",
    "    cy_distances = zeros(Int64,length(words))\n",
    "    for i in 1:length(words)\n",
    "        cy_distances[i] = edit_distance(mistake, words[i])\n",
    "    end\n",
    "    return cy_distances\n",
    "end"
   ]
  },
  {
   "cell_type": "code",
   "execution_count": 59,
   "metadata": {},
   "outputs": [
    {
     "data": {
      "text/plain": [
       "BenchmarkTools.Trial: \n",
       "  memory estimate:  180.00 MiB\n",
       "  allocs estimate:  236738\n",
       "  --------------\n",
       "  minimum time:     148.139 ms (0.00% GC)\n",
       "  median time:      164.628 ms (0.00% GC)\n",
       "  mean time:        196.631 ms (13.96% GC)\n",
       "  maximum time:     883.741 ms (80.78% GC)\n",
       "  --------------\n",
       "  samples:          26\n",
       "  evals/sample:     1"
      ]
     },
     "execution_count": 59,
     "metadata": {},
     "output_type": "execute_result"
    }
   ],
   "source": [
    "@benchmark compute_distances3($mistake, $words_nltk)"
   ]
  },
  {
   "cell_type": "markdown",
   "metadata": {},
   "source": [
    "### Multithreading version"
   ]
  },
  {
   "cell_type": "code",
   "execution_count": 19,
   "metadata": {},
   "outputs": [
    {
     "data": {
      "text/plain": [
       "4"
      ]
     },
     "execution_count": 19,
     "metadata": {},
     "output_type": "execute_result"
    }
   ],
   "source": [
    "Base.Threads.nthreads()"
   ]
  },
  {
   "cell_type": "code",
   "execution_count": 29,
   "metadata": {},
   "outputs": [
    {
     "data": {
      "text/plain": [
       "compute_distances2 (generic function with 1 method)"
      ]
     },
     "execution_count": 29,
     "metadata": {},
     "output_type": "execute_result"
    }
   ],
   "source": [
    "function compute_distances4(mistake,words) \n",
    "     cy_distances = zeros(Int64,length(words))\n",
    "     Threads.@threads for i in 1:length(words)\n",
    "        cy_distances[i] = edit_distance(mistake, words[i])\n",
    "    end\n",
    "    return cy_distances\n",
    "end"
   ]
  },
  {
   "cell_type": "code",
   "execution_count": 30,
   "metadata": {
    "scrolled": true
   },
   "outputs": [
    {
     "name": "stdout",
     "output_type": "stream",
     "text": [
      "  0.320212 seconds (269.37 k allocations: 172.245 MiB, 64.83% gc time)\n"
     ]
    },
    {
     "data": {
      "text/plain": [
       "\"draine\""
      ]
     },
     "execution_count": 30,
     "metadata": {},
     "output_type": "execute_result"
    }
   ],
   "source": [
    "mistake = \"drauing\"\n",
    "@time distances = compute_distances4(mistake,words_nltk); closest_word =  words_nltk[argmin(distances)]"
   ]
  },
  {
   "cell_type": "code",
   "execution_count": 65,
   "metadata": {
    "scrolled": true
   },
   "outputs": [
    {
     "name": "stderr",
     "output_type": "stream",
     "text": [
      "┌ Info: Precompiling StaticArrays [90137ffa-7385-5640-81b9-e52037218182]\n",
      "└ @ Base loading.jl:1186\n"
     ]
    }
   ],
   "source": [
    "using StaticArrays"
   ]
  },
  {
   "cell_type": "code",
   "execution_count": 66,
   "metadata": {},
   "outputs": [
    {
     "data": {
      "text/plain": [
       "edit_distance_opt (generic function with 1 method)"
      ]
     },
     "execution_count": 66,
     "metadata": {},
     "output_type": "execute_result"
    }
   ],
   "source": [
    "function edit_distance_opt(X::String,Y::String)\n",
    "    len_x = length(X)\n",
    "    len_y = length(Y)\n",
    "    D = StaticArrays.zeros(Int, len_x+1, len_y+1)\n",
    "\n",
    "    @inbounds for i in 1:(len_x+1)\n",
    "        for j in 1:(len_y+1)\n",
    "            if i==1\n",
    "                D[i,j] = j\n",
    "            elseif j==1\n",
    "                D[i,j] = i\n",
    "            elseif X[i-1] == Y[j-1]\n",
    "                D[i,j] = D[i-1,j-1]\n",
    "            else\n",
    "                D[i,j] = 1+min(D[i,j-1], D[i-1,j], D[i-1,j-1])\n",
    "            end\n",
    "        end\n",
    "    end\n",
    "    return D[len_x,len_y]\n",
    "end"
   ]
  },
  {
   "cell_type": "code",
   "execution_count": 68,
   "metadata": {},
   "outputs": [
    {
     "data": {
      "text/plain": [
       "BenchmarkTools.Trial: \n",
       "  memory estimate:  208 bytes\n",
       "  allocs estimate:  1\n",
       "  --------------\n",
       "  minimum time:     129.366 ns (0.00% GC)\n",
       "  median time:      144.351 ns (0.00% GC)\n",
       "  mean time:        150.494 ns (0.00% GC)\n",
       "  maximum time:     418.453 ns (0.00% GC)\n",
       "  --------------\n",
       "  samples:          10000\n",
       "  evals/sample:     949"
      ]
     },
     "execution_count": 68,
     "metadata": {},
     "output_type": "execute_result"
    }
   ],
   "source": [
    "@benchmark edit_distance_opt(\"lik\",\"cat\")"
   ]
  },
  {
   "cell_type": "code",
   "execution_count": 69,
   "metadata": {},
   "outputs": [
    {
     "data": {
      "text/plain": [
       "compute_distances_static (generic function with 1 method)"
      ]
     },
     "execution_count": 69,
     "metadata": {},
     "output_type": "execute_result"
    }
   ],
   "source": [
    "function compute_distances_static(mistake,words) \n",
    "     cy_distances = zeros(Int64,length(words))\n",
    "     Threads.@threads for i in 1:length(words)\n",
    "        cy_distances[i] = edit_distance_opt(mistake, words[i])\n",
    "    end\n",
    "    return cy_distances\n",
    "end"
   ]
  },
  {
   "cell_type": "code",
   "execution_count": 79,
   "metadata": {},
   "outputs": [
    {
     "name": "stdout",
     "output_type": "stream",
     "text": [
      "  0.104975 seconds (229.90 k allocations: 174.522 MiB)\n"
     ]
    }
   ],
   "source": [
    "mistake = \"drauing\"\n",
    "@time distances = compute_distances_static(mistake,words_nltk);"
   ]
  },
  {
   "cell_type": "code",
   "execution_count": 81,
   "metadata": {},
   "outputs": [
    {
     "data": {
      "text/plain": [
       "BenchmarkTools.Trial: \n",
       "  memory estimate:  170.10 MiB\n",
       "  allocs estimate:  224438\n",
       "  --------------\n",
       "  minimum time:     68.646 ms (0.00% GC)\n",
       "  median time:      71.546 ms (0.00% GC)\n",
       "  mean time:        109.932 ms (33.80% GC)\n",
       "  maximum time:     1.779 s (96.07% GC)\n",
       "  --------------\n",
       "  samples:          46\n",
       "  evals/sample:     1"
      ]
     },
     "execution_count": 81,
     "metadata": {},
     "output_type": "execute_result"
    }
   ],
   "source": [
    "@benchmark distances = compute_distances_static(mistake, words_nltk)"
   ]
  },
  {
   "cell_type": "markdown",
   "metadata": {},
   "source": [
    "### String distances\n"
   ]
  },
  {
   "cell_type": "code",
   "execution_count": 98,
   "metadata": {},
   "outputs": [],
   "source": [
    "using StringDistances"
   ]
  },
  {
   "cell_type": "code",
   "execution_count": 99,
   "metadata": {},
   "outputs": [
    {
     "data": {
      "text/plain": [
       "1"
      ]
     },
     "execution_count": 99,
     "metadata": {},
     "output_type": "execute_result"
    }
   ],
   "source": [
    "evaluate(Levenshtein(), \"New York\", \"New Yorks\")"
   ]
  },
  {
   "cell_type": "code",
   "execution_count": 96,
   "metadata": {},
   "outputs": [
    {
     "data": {
      "text/plain": [
       "compute_distances_stringdistances (generic function with 1 method)"
      ]
     },
     "execution_count": 96,
     "metadata": {},
     "output_type": "execute_result"
    }
   ],
   "source": [
    "function compute_distances_stringdistances(mistake,words) \n",
    "     measure = Levenshtein()\n",
    "     cy_distances = zeros(Int64,length(words))\n",
    "     Threads.@threads for i in 1:length(words)\n",
    "        cy_distances[i] = evaluate(measure, mistake, words[i])\n",
    "    end\n",
    "    return cy_distances\n",
    "end"
   ]
  },
  {
   "cell_type": "code",
   "execution_count": 97,
   "metadata": {},
   "outputs": [
    {
     "data": {
      "text/plain": [
       "BenchmarkTools.Trial: \n",
       "  memory estimate:  35.51 MiB\n",
       "  allocs estimate:  218527\n",
       "  --------------\n",
       "  minimum time:     45.755 ms (0.00% GC)\n",
       "  median time:      48.419 ms (0.00% GC)\n",
       "  mean time:        53.220 ms (0.00% GC)\n",
       "  maximum time:     95.974 ms (0.00% GC)\n",
       "  --------------\n",
       "  samples:          94\n",
       "  evals/sample:     1"
      ]
     },
     "execution_count": 97,
     "metadata": {},
     "output_type": "execute_result"
    }
   ],
   "source": [
    "@benchmark distances = compute_distances_stringdistances(mistake, words_nltk)"
   ]
  },
  {
   "cell_type": "code",
   "execution_count": null,
   "metadata": {},
   "outputs": [],
   "source": []
  }
 ],
 "metadata": {
  "kernelspec": {
   "display_name": "Julia 1.1.0",
   "language": "julia",
   "name": "julia-1.1"
  },
  "language_info": {
   "file_extension": ".jl",
   "mimetype": "application/julia",
   "name": "julia",
   "version": "1.1.0"
  },
  "toc": {
   "base_numbering": 1,
   "nav_menu": {},
   "number_sections": true,
   "sideBar": true,
   "skip_h1_title": false,
   "title_cell": "Table of Contents",
   "title_sidebar": "Contents",
   "toc_cell": false,
   "toc_position": {},
   "toc_section_display": true,
   "toc_window_display": false
  }
 },
 "nbformat": 4,
 "nbformat_minor": 1
}
