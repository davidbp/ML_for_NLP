{
 "cells": [
  {
   "cell_type": "markdown",
   "metadata": {},
   "source": [
    "# Language Models"
   ]
  },
  {
   "cell_type": "code",
   "execution_count": 272,
   "metadata": {},
   "outputs": [],
   "source": [
    "import numpy as np"
   ]
  },
  {
   "cell_type": "code",
   "execution_count": 273,
   "metadata": {},
   "outputs": [
    {
     "name": "stdout",
     "output_type": "stream",
     "text": [
      "\n",
      "<s> a a b b c c </s>\n",
      "<s> a c b c </s>\n",
      "<s> b c c a b </s>\n",
      "\n"
     ]
    }
   ],
   "source": [
    "X = \"\"\"\n",
    "<s> a a b b c c </s>\n",
    "<s> a c b c </s>\n",
    "<s> b c c a b </s>\n",
    "\"\"\"\n",
    "print(X)"
   ]
  },
  {
   "cell_type": "code",
   "execution_count": 274,
   "metadata": {},
   "outputs": [
    {
     "data": {
      "text/plain": [
       "['', '<s> a a b b c c </s>', '<s> a c b c </s>', '<s> b c c a b </s>', '']"
      ]
     },
     "execution_count": 274,
     "metadata": {},
     "output_type": "execute_result"
    }
   ],
   "source": [
    "X.split(\"\\n\")"
   ]
  },
  {
   "cell_type": "code",
   "execution_count": 275,
   "metadata": {},
   "outputs": [],
   "source": [
    "def parse_data(data):\n",
    "    data_as_list = []\n",
    "    for r in data.split(\"\\n\"):\n",
    "        if len(r)!=0:\n",
    "            \n",
    "            data_as_list.append(r.split(\" \"))\n",
    "            \n",
    "    return data_as_list"
   ]
  },
  {
   "cell_type": "code",
   "execution_count": 276,
   "metadata": {},
   "outputs": [],
   "source": [
    "dataset = parse_data(X)"
   ]
  },
  {
   "cell_type": "code",
   "execution_count": 277,
   "metadata": {
    "scrolled": true
   },
   "outputs": [
    {
     "data": {
      "text/plain": [
       "['<s>', 'a', 'a', 'b', 'b', 'c', 'c', '</s>']"
      ]
     },
     "execution_count": 277,
     "metadata": {},
     "output_type": "execute_result"
    }
   ],
   "source": [
    "dataset[0]"
   ]
  },
  {
   "cell_type": "code",
   "execution_count": 278,
   "metadata": {},
   "outputs": [],
   "source": [
    "def get_vocabulary(dataset):\n",
    "    vocab = set()\n",
    "    for r in dataset:\n",
    "        for x in r:\n",
    "            vocab.add(x)\n",
    "    return vocab"
   ]
  },
  {
   "cell_type": "code",
   "execution_count": 279,
   "metadata": {},
   "outputs": [],
   "source": [
    "vocabulary = get_vocabulary(dataset)"
   ]
  },
  {
   "cell_type": "code",
   "execution_count": 280,
   "metadata": {
    "scrolled": true
   },
   "outputs": [],
   "source": [
    "START = \"<s>\"\n",
    "STOP  = \"</s>\"\n",
    "vocabulary = vocabulary - set([START, STOP])"
   ]
  },
  {
   "cell_type": "markdown",
   "metadata": {},
   "source": [
    "## Unigrams"
   ]
  },
  {
   "cell_type": "code",
   "execution_count": 281,
   "metadata": {},
   "outputs": [],
   "source": [
    "def compute_probs_unigrams(dataset, vocab):\n",
    "    w_counts = {w:0 for w in vocab}\n",
    "    for r in dataset:\n",
    "        for w in r:\n",
    "            if w in w_counts:\n",
    "                w_counts[w] +=1\n",
    "    return w_counts"
   ]
  },
  {
   "cell_type": "code",
   "execution_count": 282,
   "metadata": {},
   "outputs": [
    {
     "data": {
      "text/plain": [
       "{'b': 5, 'a': 4, 'c': 6}"
      ]
     },
     "execution_count": 282,
     "metadata": {},
     "output_type": "execute_result"
    }
   ],
   "source": [
    "w_counts = compute_probs_unigrams(dataset, vocabulary)\n",
    "w_counts"
   ]
  },
  {
   "cell_type": "code",
   "execution_count": 283,
   "metadata": {},
   "outputs": [],
   "source": [
    "def compute_probs_unigrams(w_counts):\n",
    "    n_words = np.sum(list(w_counts.values())) \n",
    "    w_probs = {w:0 for w in w_counts}\n",
    "    for w,c in w_counts.items():\n",
    "        w_probs[w] = c/n_words\n",
    "    return w_probs"
   ]
  },
  {
   "cell_type": "code",
   "execution_count": 284,
   "metadata": {},
   "outputs": [],
   "source": [
    "w_probs = compute_probs_unigrams(w_counts)"
   ]
  },
  {
   "cell_type": "code",
   "execution_count": 285,
   "metadata": {},
   "outputs": [
    {
     "data": {
      "text/plain": [
       "{'b': 0.3333333333333333, 'a': 0.26666666666666666, 'c': 0.4}"
      ]
     },
     "execution_count": 285,
     "metadata": {},
     "output_type": "execute_result"
    }
   ],
   "source": [
    "# a: 0.26666666666666666 b: 0.3333333333333333 c: 0.4 UNK: 0.0 \n",
    "w_probs"
   ]
  },
  {
   "cell_type": "markdown",
   "metadata": {},
   "source": [
    "## Corpus creation with `<s>` and `</s>`\n",
    "\n",
    "\n",
    "Create corpus as a list of sentences"
   ]
  },
  {
   "cell_type": "code",
   "execution_count": 286,
   "metadata": {},
   "outputs": [],
   "source": [
    "list_of_sequences = X.split(\"\\n\")[1:]\n",
    "list_of_sequences = [l for l in list_of_sequences if len(l)!=0]"
   ]
  },
  {
   "cell_type": "code",
   "execution_count": 287,
   "metadata": {},
   "outputs": [
    {
     "data": {
      "text/plain": [
       "['<s> a a b b c c </s>', '<s> a c b c </s>', '<s> b c c a b </s>']"
      ]
     },
     "execution_count": 287,
     "metadata": {},
     "output_type": "execute_result"
    }
   ],
   "source": [
    "list_of_sequences"
   ]
  },
  {
   "cell_type": "markdown",
   "metadata": {},
   "source": [
    "## Make a unigram model\n",
    "\n",
    "Fill in the functions to have a working UniGrams class"
   ]
  },
  {
   "cell_type": "code",
   "execution_count": 288,
   "metadata": {},
   "outputs": [],
   "source": [
    "\n",
    "from __future__ import division\n",
    "from collections import defaultdict as ddict\n",
    "import itertools\n",
    "import math\n",
    "import random\n",
    "\n",
    "class UniGrams(object):\n",
    "    \n",
    "    def __init__(self):\n",
    "        self.n_tokens = 0\n",
    "        self._counts = ddict(lambda: 0)\n",
    "\n",
    "    def partial_update(self, words):\n",
    "        # FILL IN THIS\n",
    "    \n",
    "    def word_probability(self, word):\n",
    "        if isinstance(word, str):\n",
    "            return self._counts.get((word, ))/self.n_tokens\n",
    "        if isinstance(word, tuple):\n",
    "            return self._counts.get(word)/self.n_tokens\n",
    "    \n",
    "    def compute_probs(self):\n",
    "        # FILL IN THIS\n",
    "        return w_probs\n",
    "    \n",
    "    def update_counts_given_corpus(self, list_of_sequences, tokenizer=lambda x: x.split(\" \")):\n",
    "        # FILL IN THIS\n",
    "\n"
   ]
  },
  {
   "cell_type": "markdown",
   "metadata": {},
   "source": [
    "We can iterate over sequences"
   ]
  },
  {
   "cell_type": "code",
   "execution_count": 289,
   "metadata": {},
   "outputs": [],
   "source": [
    "unigram_model = UniGrams()\n",
    "\n",
    "for seq in list_of_sequences:\n",
    "    unigram_model.partial_update(seq.split(\" \"))"
   ]
  },
  {
   "cell_type": "code",
   "execution_count": 290,
   "metadata": {},
   "outputs": [
    {
     "data": {
      "text/plain": [
       "defaultdict(<function __main__.UniGrams.__init__.<locals>.<lambda>()>,\n",
       "            {('<s>',): 3, ('a',): 4, ('b',): 5, ('c',): 6, ('</s>',): 3})"
      ]
     },
     "execution_count": 290,
     "metadata": {},
     "output_type": "execute_result"
    }
   ],
   "source": [
    "unigram_model._counts"
   ]
  },
  {
   "cell_type": "code",
   "execution_count": 291,
   "metadata": {},
   "outputs": [
    {
     "data": {
      "text/plain": [
       "0.14285714285714285"
      ]
     },
     "execution_count": 291,
     "metadata": {},
     "output_type": "execute_result"
    }
   ],
   "source": [
    "unigram_model.word_probability(\"<s>\")"
   ]
  },
  {
   "cell_type": "code",
   "execution_count": 292,
   "metadata": {},
   "outputs": [
    {
     "data": {
      "text/plain": [
       "str"
      ]
     },
     "execution_count": 292,
     "metadata": {},
     "output_type": "execute_result"
    }
   ],
   "source": [
    "type(\"<s>\")"
   ]
  },
  {
   "cell_type": "code",
   "execution_count": 293,
   "metadata": {},
   "outputs": [
    {
     "data": {
      "text/plain": [
       "0.14285714285714285"
      ]
     },
     "execution_count": 293,
     "metadata": {},
     "output_type": "execute_result"
    }
   ],
   "source": [
    "unigram_model.word_probability((\"<s>\",))"
   ]
  },
  {
   "cell_type": "code",
   "execution_count": 294,
   "metadata": {},
   "outputs": [],
   "source": [
    "w_probs = unigram_model.compute_probs()\n",
    "assert np.sum(list(w_probs.values())), \"This should add up to one\""
   ]
  },
  {
   "cell_type": "code",
   "execution_count": 295,
   "metadata": {},
   "outputs": [
    {
     "data": {
      "text/plain": [
       "(1, 3, 3)"
      ]
     },
     "execution_count": 295,
     "metadata": {},
     "output_type": "execute_result"
    }
   ],
   "source": [
    "len((\"<s>\",)), len(\"<s>\"), len((\"<s>\"))"
   ]
  },
  {
   "cell_type": "markdown",
   "metadata": {},
   "source": [
    "## Unigram: add method to compute the probability of a sequence"
   ]
  },
  {
   "cell_type": "code",
   "execution_count": 297,
   "metadata": {},
   "outputs": [],
   "source": [
    "\n",
    "from __future__ import division\n",
    "from collections import defaultdict as ddict\n",
    "import itertools\n",
    "import math\n",
    "import random\n",
    "\n",
    "class UniGrams(object):\n",
    "    \n",
    "    def __init__(self):\n",
    "        self.n_tokens = 0\n",
    "        self._counts = ddict(lambda: 0)\n",
    "\n",
    "    def partial_update(self, words):\n",
    "        # FILL IN THIS\n",
    "    \n",
    "    def word_probability(self, word):\n",
    "        if isinstance(word, str):\n",
    "            return self._counts.get((word, ))/self.n_tokens\n",
    "        if isinstance(word, tuple):\n",
    "            return self._counts.get(word)/self.n_tokens\n",
    "    \n",
    "    def compute_probs(self):\n",
    "        # FILL IN THIS\n",
    "        return w_probs\n",
    "    \n",
    "    def update_counts_given_corpus(self, list_of_sequences, tokenizer=lambda x: x.split(\" \")):\n",
    "        # FILL IN THIS\n",
    "\n",
    "\n",
    "\n",
    "    def sequence_probability(self, word_sequence):\n",
    "        assert isinstance(word_sequence, list),\\\n",
    "                \"type(sequence)={}, it should be a list\".format(type(word_sequence))\n",
    "       # FILL IN THIS\n",
    "\n",
    "    def _probability(self, unigram):\n",
    "        # FILL IN THIS\n",
    "        #unigram_count =\n",
    "        #prefix_count = \n",
    "               \n",
    "        \n"
   ]
  },
  {
   "cell_type": "code",
   "execution_count": 298,
   "metadata": {},
   "outputs": [],
   "source": [
    "unigram_model = UniGrams()\n",
    "\n",
    "for seq in list_of_sequences:\n",
    "    unigram_model.partial_update(seq.split(\" \"))"
   ]
  },
  {
   "cell_type": "code",
   "execution_count": 299,
   "metadata": {},
   "outputs": [
    {
     "data": {
      "text/plain": [
       "0.0038872691933916417"
      ]
     },
     "execution_count": 299,
     "metadata": {},
     "output_type": "execute_result"
    }
   ],
   "source": [
    "unigram_model.sequence_probability([\"<s>\",\"a\",\"</s>\"])"
   ]
  },
  {
   "cell_type": "markdown",
   "metadata": {},
   "source": [
    "## NGram class creation \n",
    "\n",
    "Make an update function that for a given sequence of tokens computes the ngrams of the sequence and updates the counts in the internal `._counts` default dict"
   ]
  },
  {
   "cell_type": "code",
   "execution_count": 442,
   "metadata": {
    "code_folding": []
   },
   "outputs": [],
   "source": [
    "\n",
    "from __future__ import division\n",
    "from collections import defaultdict as ddict\n",
    "import itertools\n",
    "import math\n",
    "import random\n",
    "\n",
    "class NGrams(object):\n",
    "    def __init__(self, max_n, words=None):\n",
    "        \n",
    "        assert max_n>=1, \"max_n={}, it should be >= 1\".format(max_n)\n",
    "        \n",
    "        self._max_n   = max_n\n",
    "        self._n_range = range(1, max_n + 1)\n",
    "        self._counts  = ddict(lambda: 0)\n",
    "        self.n_tokens = 0\n",
    "        \n",
    "\n",
    "    def partial_update(self, words):\n",
    "        # FILL IN THIS\n",
    "\n",
    "\n"
   ]
  },
  {
   "cell_type": "code",
   "execution_count": 443,
   "metadata": {},
   "outputs": [],
   "source": [
    "ngrams_builder = NGrams(max_n=1)\n",
    "for seq in list_of_sequences:\n",
    "    ngrams_builder.partial_update(seq.split(\" \"))"
   ]
  },
  {
   "cell_type": "code",
   "execution_count": 444,
   "metadata": {},
   "outputs": [
    {
     "data": {
      "text/plain": [
       "True"
      ]
     },
     "execution_count": 444,
     "metadata": {},
     "output_type": "execute_result"
    }
   ],
   "source": [
    "ngrams_builder._counts == ngrams_builder._counts"
   ]
  },
  {
   "cell_type": "markdown",
   "metadata": {},
   "source": [
    "### Try bigrams\n",
    "Let us inspect the bigram counts"
   ]
  },
  {
   "cell_type": "code",
   "execution_count": 445,
   "metadata": {},
   "outputs": [
    {
     "name": "stdout",
     "output_type": "stream",
     "text": [
      "['<s> This is the malt </s>', '<s> That lay in the house that Jack build </s>']\n"
     ]
    }
   ],
   "source": [
    "print(X)"
   ]
  },
  {
   "cell_type": "code",
   "execution_count": 446,
   "metadata": {},
   "outputs": [],
   "source": [
    "bigram_model = NGrams(max_n=2)\n",
    "for seq in list_of_sequences:\n",
    "    bigram_model.partial_update(seq.split(\" \"))"
   ]
  },
  {
   "cell_type": "code",
   "execution_count": 462,
   "metadata": {
    "scrolled": false
   },
   "outputs": [
    {
     "data": {
      "text/plain": [
       "defaultdict(<function __main__.NGrams.__init__.<locals>.<lambda>()>,\n",
       "            {('<s>',): 2,\n",
       "             ('<s>', 'This'): 1,\n",
       "             ('This',): 1,\n",
       "             ('This', 'is'): 1,\n",
       "             ('is',): 1,\n",
       "             ('is', 'the'): 1,\n",
       "             ('the',): 2,\n",
       "             ('the', 'malt'): 1,\n",
       "             ('malt',): 1,\n",
       "             ('malt', '</s>'): 1,\n",
       "             ('</s>',): 2,\n",
       "             ('<s>', 'That'): 1,\n",
       "             ('That',): 1,\n",
       "             ('That', 'lay'): 1,\n",
       "             ('lay',): 1,\n",
       "             ('lay', 'in'): 1,\n",
       "             ('in',): 1,\n",
       "             ('in', 'the'): 1,\n",
       "             ('the', 'house'): 1,\n",
       "             ('house',): 1,\n",
       "             ('house', 'that'): 1,\n",
       "             ('that',): 1,\n",
       "             ('that', 'Jack'): 1,\n",
       "             ('Jack',): 1,\n",
       "             ('Jack', 'build'): 1,\n",
       "             ('build',): 1,\n",
       "             ('build', '</s>'): 1})"
      ]
     },
     "execution_count": 462,
     "metadata": {},
     "output_type": "execute_result"
    }
   ],
   "source": [
    "bigram_model._counts"
   ]
  },
  {
   "cell_type": "markdown",
   "metadata": {},
   "source": [
    "## Update NGrams:  computing the probability of a sequence"
   ]
  },
  {
   "cell_type": "markdown",
   "metadata": {},
   "source": [
    "how do you compute `p(('<s>', 'a')) = c('<s>', 'a')/('a')`\n"
   ]
  },
  {
   "cell_type": "code",
   "execution_count": 536,
   "metadata": {},
   "outputs": [],
   "source": [
    "\n",
    "from __future__ import division\n",
    "from collections import defaultdict as ddict\n",
    "import itertools\n",
    "import math\n",
    "import random\n",
    "\n",
    "class NGrams(object):\n",
    "    def __init__(self, max_n, words=None):\n",
    "        \n",
    "        assert max_n>=1, \"max_n={}, it should be >= 1\".format(max_n)\n",
    "        \n",
    "        self._max_n   = max_n\n",
    "        self._n_range = range(1, max_n + 1)\n",
    "        self._counts  = ddict(lambda: 0)\n",
    "        self.n_tokens = 0\n",
    "        \n",
    "\n",
    "\n",
    "    def partial_update(self, words):\n",
    "        # FILL IN THIS\n",
    "\n",
    "\n",
    "    \n",
    "    def ngram_probability(self, ngram):\n",
    "        assert isinstance(ngram, tuple),\\\n",
    "            \"type(ngram)={}, it should be a tuple of strings\".format(typle(ngram))\n",
    "\n",
    "        # FILL IN THIS\n",
    "\n",
    "\n",
    "\n",
    "    def sequence_probability(self, word_sequence):\n",
    "        assert isinstance(word_sequence, list),\\\n",
    "                \"type(sequence)={}, it should be a list\".format(type(word_sequence))\n",
    "            \n",
    "        # FILL IN THIS\n",
    "\n"
   ]
  },
  {
   "cell_type": "code",
   "execution_count": 537,
   "metadata": {},
   "outputs": [],
   "source": [
    "bigram_model = NGrams(max_n=2)\n",
    "for seq in list_of_sequences:\n",
    "    bigram_model.partial_update(seq.split(\" \"))"
   ]
  },
  {
   "cell_type": "code",
   "execution_count": 538,
   "metadata": {},
   "outputs": [
    {
     "data": {
      "text/plain": [
       "0.6666666666666666"
      ]
     },
     "execution_count": 538,
     "metadata": {},
     "output_type": "execute_result"
    }
   ],
   "source": [
    "bigram_model.ngram_probability(('<s>','a'))"
   ]
  },
  {
   "cell_type": "code",
   "execution_count": 539,
   "metadata": {},
   "outputs": [
    {
     "data": {
      "text/plain": [
       "0.0"
      ]
     },
     "execution_count": 539,
     "metadata": {},
     "output_type": "execute_result"
    }
   ],
   "source": [
    "bigram_model.ngram_probability(('<s>','<s>'))"
   ]
  },
  {
   "cell_type": "markdown",
   "metadata": {},
   "source": [
    "Another example"
   ]
  },
  {
   "cell_type": "code",
   "execution_count": 540,
   "metadata": {},
   "outputs": [],
   "source": [
    "X2 = [\"<s> This is the malt </s>\", \"<s> That lay in the house that Jack build </s>\"]"
   ]
  },
  {
   "cell_type": "code",
   "execution_count": 541,
   "metadata": {},
   "outputs": [],
   "source": [
    "bigram_model = NGrams(max_n=2)\n",
    "for seq in X2:\n",
    "    bigram_model.partial_update(seq.split(\" \"))"
   ]
  },
  {
   "cell_type": "code",
   "execution_count": 542,
   "metadata": {
    "scrolled": false
   },
   "outputs": [
    {
     "data": {
      "text/plain": [
       "defaultdict(<function __main__.NGrams.__init__.<locals>.<lambda>()>,\n",
       "            {('<s>',): 2,\n",
       "             ('<s>', 'This'): 1,\n",
       "             ('This',): 1,\n",
       "             ('This', 'is'): 1,\n",
       "             ('is',): 1,\n",
       "             ('is', 'the'): 1,\n",
       "             ('the',): 2,\n",
       "             ('the', 'malt'): 1,\n",
       "             ('malt',): 1,\n",
       "             ('malt', '</s>'): 1,\n",
       "             ('</s>',): 2,\n",
       "             ('<s>', 'That'): 1,\n",
       "             ('That',): 1,\n",
       "             ('That', 'lay'): 1,\n",
       "             ('lay',): 1,\n",
       "             ('lay', 'in'): 1,\n",
       "             ('in',): 1,\n",
       "             ('in', 'the'): 1,\n",
       "             ('the', 'house'): 1,\n",
       "             ('house',): 1,\n",
       "             ('house', 'that'): 1,\n",
       "             ('that',): 1,\n",
       "             ('that', 'Jack'): 1,\n",
       "             ('Jack',): 1,\n",
       "             ('Jack', 'build'): 1,\n",
       "             ('build',): 1,\n",
       "             ('build', '</s>'): 1})"
      ]
     },
     "execution_count": 542,
     "metadata": {},
     "output_type": "execute_result"
    }
   ],
   "source": [
    "bigram_model._counts"
   ]
  },
  {
   "cell_type": "code",
   "execution_count": 543,
   "metadata": {},
   "outputs": [
    {
     "data": {
      "text/plain": [
       "0.5"
      ]
     },
     "execution_count": 543,
     "metadata": {},
     "output_type": "execute_result"
    }
   ],
   "source": [
    "bigram_model.ngram_probability(('<s>', 'This')) "
   ]
  },
  {
   "cell_type": "code",
   "execution_count": 544,
   "metadata": {},
   "outputs": [
    {
     "data": {
      "text/plain": [
       "1.0"
      ]
     },
     "execution_count": 544,
     "metadata": {},
     "output_type": "execute_result"
    }
   ],
   "source": [
    "bigram_model.ngram_probability(('This', 'is')) "
   ]
  },
  {
   "cell_type": "code",
   "execution_count": 545,
   "metadata": {},
   "outputs": [
    {
     "data": {
      "text/plain": [
       "0.5"
      ]
     },
     "execution_count": 545,
     "metadata": {},
     "output_type": "execute_result"
    }
   ],
   "source": [
    "bigram_model.sequence_probability(['<s>', 'This', 'is', 'the']) "
   ]
  },
  {
   "cell_type": "code",
   "execution_count": 546,
   "metadata": {},
   "outputs": [
    {
     "data": {
      "text/plain": [
       "0.25"
      ]
     },
     "execution_count": 546,
     "metadata": {},
     "output_type": "execute_result"
    }
   ],
   "source": [
    "bigram_model.sequence_probability(['<s>', 'This', 'is', 'the','house']) "
   ]
  },
  {
   "cell_type": "code",
   "execution_count": 547,
   "metadata": {},
   "outputs": [
    {
     "data": {
      "text/plain": [
       "0.0"
      ]
     },
     "execution_count": 547,
     "metadata": {},
     "output_type": "execute_result"
    }
   ],
   "source": [
    "bigram_model.sequence_probability(['<s>', 'This', 'is', 'the','house','</s>']) "
   ]
  },
  {
   "cell_type": "markdown",
   "metadata": {},
   "source": [
    "Another example\n"
   ]
  },
  {
   "cell_type": "code",
   "execution_count": 557,
   "metadata": {},
   "outputs": [],
   "source": [
    "X3 =\"\"\"This is the house that Jack built\n",
    "This is the malt\n",
    "That lay in the house that Jack built\n",
    "This is the rat\n",
    "That ate the malt\n",
    "That lay in the house that Jack built\n",
    "This is the cat\n",
    "That killed the rat\n",
    "That ate the malt\n",
    "That lay in the house that Jack build\n",
    "\"\"\""
   ]
  },
  {
   "cell_type": "code",
   "execution_count": 558,
   "metadata": {},
   "outputs": [],
   "source": [
    "ngrams_model3 = NGrams(max_n=2)\n",
    "X3_sequences = X3.split(\"\\n\")\n",
    "for seq in X3_sequences:\n",
    "    if seq != \"\":\n",
    "        ngrams_model3.partial_update(seq.split(\" \"))"
   ]
  },
  {
   "cell_type": "code",
   "execution_count": 568,
   "metadata": {},
   "outputs": [
    {
     "data": {
      "text/plain": [
       "(4, 10)"
      ]
     },
     "execution_count": 568,
     "metadata": {},
     "output_type": "execute_result"
    }
   ],
   "source": [
    "ngrams_model3._counts.get((\"the\", \"house\")), ngrams_model3._counts.get((\"the\",))"
   ]
  },
  {
   "cell_type": "code",
   "execution_count": 566,
   "metadata": {},
   "outputs": [
    {
     "data": {
      "text/plain": [
       "0.5"
      ]
     },
     "execution_count": 566,
     "metadata": {},
     "output_type": "execute_result"
    }
   ],
   "source": [
    "ngrams_model.ngram_probability((\"the\", \"house\"), smoothing=None)"
   ]
  },
  {
   "cell_type": "markdown",
   "metadata": {},
   "source": [
    "## Update  NGrams:   Laplace smoothing\n",
    "\n",
    "\n",
    "Problem: give too much probability mass to unseen n-grams.\n",
    "\n",
    "  For sparse sets of data over large vocabularies, such as n-grams, Laplace's law actually gives far too much of the probability space to unseen events.\n",
    "  \n",
    "Let N be the number of words seen in the corpus (adding start and stop at every example and taking them into account as words).\n",
    "\n",
    "For 1-grams\n",
    "$$\n",
    "p_{\\mathrm{lap}} (w_i) = \\frac{1 + c(w_i)}{ \\text{vocab_size} + \\text{n_tokens} }\n",
    "$$\n",
    "For 2-grams\n",
    "$$\n",
    "p_{\\mathrm{lap}}  (w_i \\vert w_{i-1}) = \\frac{1 + c(w_{i-1}, w_i)}{ \\text{vocab_size}  + c(w_{i-1})}\n",
    "$$\n",
    "\n",
    "For n-grams\n",
    "$$\n",
    "p_{\\mathrm{lap}}  (w_n \\vert w_{1}, \\dots ,w_{n-1}) = \\frac{1 + c(w_{1}, \\dots ,w_{n})}{ \\text{vocab_size} + c(w_{1}, \\dots ,w_{n-1})}\n",
    "$$\n",
    "\n",
    "\n"
   ]
  },
  {
   "cell_type": "code",
   "execution_count": 496,
   "metadata": {},
   "outputs": [],
   "source": [
    "\n",
    "class NGrams(object):\n",
    "    def __init__(self, max_n, words=None):\n",
    "        \n",
    "        assert max_n>=1, \"max_n={}, it should be >= 1\".format(max_n)\n",
    "        \n",
    "        self._max_n   = max_n\n",
    "        self._n_range = range(1, max_n + 1)\n",
    "        self._counts  = ddict(lambda: 0)\n",
    "        self.n_tokens = 0\n",
    "        \n",
    "    def partial_update(self, words):\n",
    "        # FILL IN THIS\n",
    "\n",
    "\n",
    "\n",
    "    def sequence_probability(self, word_sequence, smoothing=\"None\"):\n",
    "        # FILL IN THIS\n",
    "\n",
    "\n",
    "\n",
    "    def ngram_probability(self, ngram, smoothing):\n",
    "        # FILL IN THIS \n",
    "\n",
    "\n"
   ]
  },
  {
   "cell_type": "code",
   "execution_count": 497,
   "metadata": {},
   "outputs": [
    {
     "data": {
      "text/plain": [
       "defaultdict(<function __main__.NGrams.__init__.<locals>.<lambda>()>,\n",
       "            {('<s>',): 2,\n",
       "             ('<s>', 'This'): 1,\n",
       "             ('This',): 1,\n",
       "             ('This', 'is'): 1,\n",
       "             ('is',): 1,\n",
       "             ('is', 'the'): 1,\n",
       "             ('the',): 2,\n",
       "             ('the', 'malt'): 1,\n",
       "             ('malt',): 1,\n",
       "             ('malt', '</s>'): 1,\n",
       "             ('</s>',): 2,\n",
       "             ('<s>', 'That'): 1,\n",
       "             ('That',): 1,\n",
       "             ('That', 'lay'): 1,\n",
       "             ('lay',): 1,\n",
       "             ('lay', 'in'): 1,\n",
       "             ('in',): 1,\n",
       "             ('in', 'the'): 1,\n",
       "             ('the', 'house'): 1,\n",
       "             ('house',): 1,\n",
       "             ('house', 'that'): 1,\n",
       "             ('that',): 1,\n",
       "             ('that', 'Jack'): 1,\n",
       "             ('Jack',): 1,\n",
       "             ('Jack', 'build'): 1,\n",
       "             ('build',): 1,\n",
       "             ('build', '</s>'): 1})"
      ]
     },
     "execution_count": 497,
     "metadata": {},
     "output_type": "execute_result"
    }
   ],
   "source": [
    "ngrams_model = NGrams(max_n=2)\n",
    "for seq in X2:\n",
    "    if seq != \"\":\n",
    "        ngrams_model.partial_update(seq.split(\" \"))\n",
    "        \n",
    "ngrams_model._counts"
   ]
  },
  {
   "cell_type": "markdown",
   "metadata": {},
   "source": [
    "#### Computing probabilities of sequences of tokens"
   ]
  },
  {
   "cell_type": "code",
   "execution_count": 502,
   "metadata": {},
   "outputs": [
    {
     "data": {
      "text/plain": [
       "0.0"
      ]
     },
     "execution_count": 502,
     "metadata": {},
     "output_type": "execute_result"
    }
   ],
   "source": [
    "ngrams_model.sequence_probability(['<s>', 'This', 'is', 'the','house','</s>'],\n",
    "                                  smoothing=\"None\")"
   ]
  },
  {
   "cell_type": "code",
   "execution_count": 503,
   "metadata": {},
   "outputs": [
    {
     "data": {
      "text/plain": [
       "1.0051438235168473e-05"
      ]
     },
     "execution_count": 503,
     "metadata": {},
     "output_type": "execute_result"
    }
   ],
   "source": [
    "ngrams_model.sequence_probability(['<s>', 'This', 'is', 'the','house','</s>'],\n",
    "                                  smoothing=\"Laplace\")"
   ]
  },
  {
   "cell_type": "markdown",
   "metadata": {},
   "source": [
    "#### Pay attention with defaultdicts!!\n",
    "\n",
    "If d is a `defaultdict` then `d[w]` it will append `w` as a new key if `w` not in `d`.\n",
    "\n",
    "Don't do this\n",
    "\n",
    "```\n",
    " [ngrams_builder._probability(x,smoothing=\"Laplace\") for x in ngrams_builder._counts]\n",
    " ```\n",
    "If you want a value, use `.get` \n",
    "\n",
    "```\n",
    " [ngrams_builder._probability(x,smoothing=\"Laplace\") for x in ngrams_builder._counts]\n",
    " ```"
   ]
  },
  {
   "cell_type": "code",
   "execution_count": 504,
   "metadata": {},
   "outputs": [
    {
     "data": {
      "text/plain": [
       "0"
      ]
     },
     "execution_count": 504,
     "metadata": {},
     "output_type": "execute_result"
    }
   ],
   "source": [
    "ngrams_model._counts[122]"
   ]
  },
  {
   "cell_type": "code",
   "execution_count": 505,
   "metadata": {},
   "outputs": [
    {
     "data": {
      "text/plain": [
       "defaultdict(<function __main__.NGrams.__init__.<locals>.<lambda>()>,\n",
       "            {('<s>',): 2,\n",
       "             ('<s>', 'This'): 1,\n",
       "             ('This',): 1,\n",
       "             ('This', 'is'): 1,\n",
       "             ('is',): 1,\n",
       "             ('is', 'the'): 1,\n",
       "             ('the',): 2,\n",
       "             ('the', 'malt'): 1,\n",
       "             ('malt',): 1,\n",
       "             ('malt', '</s>'): 1,\n",
       "             ('</s>',): 2,\n",
       "             ('<s>', 'That'): 1,\n",
       "             ('That',): 1,\n",
       "             ('That', 'lay'): 1,\n",
       "             ('lay',): 1,\n",
       "             ('lay', 'in'): 1,\n",
       "             ('in',): 1,\n",
       "             ('in', 'the'): 1,\n",
       "             ('the', 'house'): 1,\n",
       "             ('house',): 1,\n",
       "             ('house', 'that'): 1,\n",
       "             ('that',): 1,\n",
       "             ('that', 'Jack'): 1,\n",
       "             ('Jack',): 1,\n",
       "             ('Jack', 'build'): 1,\n",
       "             ('build',): 1,\n",
       "             ('build', '</s>'): 1,\n",
       "             ('house', '</s>'): 0,\n",
       "             122: 0})"
      ]
     },
     "execution_count": 505,
     "metadata": {},
     "output_type": "execute_result"
    }
   ],
   "source": [
    "ngrams_model._counts"
   ]
  },
  {
   "cell_type": "code",
   "execution_count": 506,
   "metadata": {},
   "outputs": [],
   "source": [
    "ngrams_model._counts.get(123)"
   ]
  },
  {
   "cell_type": "code",
   "execution_count": 507,
   "metadata": {
    "scrolled": false
   },
   "outputs": [
    {
     "data": {
      "text/plain": [
       "defaultdict(<function __main__.NGrams.__init__.<locals>.<lambda>()>,\n",
       "            {('<s>',): 2,\n",
       "             ('<s>', 'This'): 1,\n",
       "             ('This',): 1,\n",
       "             ('This', 'is'): 1,\n",
       "             ('is',): 1,\n",
       "             ('is', 'the'): 1,\n",
       "             ('the',): 2,\n",
       "             ('the', 'malt'): 1,\n",
       "             ('malt',): 1,\n",
       "             ('malt', '</s>'): 1,\n",
       "             ('</s>',): 2,\n",
       "             ('<s>', 'That'): 1,\n",
       "             ('That',): 1,\n",
       "             ('That', 'lay'): 1,\n",
       "             ('lay',): 1,\n",
       "             ('lay', 'in'): 1,\n",
       "             ('in',): 1,\n",
       "             ('in', 'the'): 1,\n",
       "             ('the', 'house'): 1,\n",
       "             ('house',): 1,\n",
       "             ('house', 'that'): 1,\n",
       "             ('that',): 1,\n",
       "             ('that', 'Jack'): 1,\n",
       "             ('Jack',): 1,\n",
       "             ('Jack', 'build'): 1,\n",
       "             ('build',): 1,\n",
       "             ('build', '</s>'): 1,\n",
       "             ('house', '</s>'): 0,\n",
       "             122: 0})"
      ]
     },
     "execution_count": 507,
     "metadata": {},
     "output_type": "execute_result"
    }
   ],
   "source": [
    "ngrams_model._counts"
   ]
  },
  {
   "cell_type": "markdown",
   "metadata": {},
   "source": [
    "## Update NGrams:  Lidstone smoothing\n",
    "\n",
    "\n",
    "Add an option0 `smoothing=\"Lidstone\" ` to `sequence_probability` and `ngram_probability`\n",
    "so that probabilities can be smoothed as follows:\n",
    "\n",
    "$$\n",
    "p_{\\mathrm{Lid}}(w_i \\vert w_{i-1}) = \\frac{  c(w_i, w_{i-1}) + \\epsilon}{c(w_i, w_{i-1}) + \\epsilon*\\text{vocab_size} }\n",
    "$$"
   ]
  },
  {
   "cell_type": "code",
   "execution_count": null,
   "metadata": {},
   "outputs": [],
   "source": []
  },
  {
   "cell_type": "markdown",
   "metadata": {},
   "source": [
    "## Update NGrams: Computing the probability of a sequence with UNK\n",
    "\n",
    "Add the option to use unkown words and still get probabilities"
   ]
  },
  {
   "cell_type": "code",
   "execution_count": null,
   "metadata": {},
   "outputs": [],
   "source": []
  },
  {
   "cell_type": "code",
   "execution_count": null,
   "metadata": {},
   "outputs": [],
   "source": []
  },
  {
   "cell_type": "code",
   "execution_count": null,
   "metadata": {},
   "outputs": [],
   "source": []
  },
  {
   "cell_type": "code",
   "execution_count": null,
   "metadata": {},
   "outputs": [],
   "source": []
  },
  {
   "cell_type": "code",
   "execution_count": null,
   "metadata": {},
   "outputs": [],
   "source": []
  }
 ],
 "metadata": {
  "kernelspec": {
   "display_name": "Python 3",
   "language": "python",
   "name": "python3"
  },
  "language_info": {
   "codemirror_mode": {
    "name": "ipython",
    "version": 3
   },
   "file_extension": ".py",
   "mimetype": "text/x-python",
   "name": "python",
   "nbconvert_exporter": "python",
   "pygments_lexer": "ipython3",
   "version": "3.6.7"
  },
  "toc": {
   "base_numbering": 1,
   "nav_menu": {},
   "number_sections": true,
   "sideBar": true,
   "skip_h1_title": false,
   "title_cell": "Table of Contents",
   "title_sidebar": "Contents",
   "toc_cell": false,
   "toc_position": {},
   "toc_section_display": true,
   "toc_window_display": false
  }
 },
 "nbformat": 4,
 "nbformat_minor": 2
}
