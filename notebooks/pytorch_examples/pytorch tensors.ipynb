{
 "cells": [
  {
   "cell_type": "markdown",
   "metadata": {
    "collapsed": true
   },
   "source": [
    "### Pytorch basics\n",
    "\n",
    "torch equivalents of numpy functions\n",
    "\n",
    "### Types\n",
    "| Numpy            | Torch |\n",
    "| --------------------|:-------------:|\n",
    "| np.ndarray       | torch.Tensor\n",
    "| np.float32       | torch.FloatTensor\n",
    "| np.float64       | torch.DoubleTensor\n",
    "| np.int8          | torch.CharTensor\n",
    "| np.uint8         | torch.ByteTensor\n",
    "| np.int16         | torch.ShortTensor\n",
    "| np.int32         | torch.IntTensor\n",
    "| np.int64         | torch.LongTensor\n",
    "\n",
    "### Constructors\n",
    "#### Ones and zeros\n",
    "| Numpy            | Torch |\n",
    "| --------------------|:-------------:|\n",
    "| np.empty([2,2]) | torch.Tensor(2,2)\n",
    "| np.empty_like(x) | x.new(x:size())\n",
    "| np.eye           | torch.eye\n",
    "| np.identity      | torch.eye\n",
    "| np.ones          | torch.ones\n",
    "| np.ones_like     | torch.ones(x:size())\n",
    "| np.zeros         | torch.zeros\n",
    "| np.zeros_like    | torch.zeros(x:size())\n",
    "\n",
    "#### From existing data\n",
    "| Numpy            | Torch |\n",
    "| --------------------|:-------------:|\n",
    "| np.array([ [1,2],[3,4] ])   | torch.Tensor({{1,2},{3,4}})\n",
    "| np.ascontiguousarray(x)   | x:contiguous()\n",
    "| np.copy(x)    | x:clone()\n",
    "| np.fromfile(file) | torch.Tensor(torch.Storage(file))\n",
    "| np.concatenate | torch.cat\n",
    "| np.multiply | torch.cmul\n",
    "\n",
    "#### Numerical Ranges\n",
    "| Numpy            | Torch |\n",
    "| --------------------|:-------------:|\n",
    "| np.arange(10)    | torch.range(0,9)\n",
    "| np.arange(2, 3, 0.1) | torch.linspace(2, 2.9, 10)\n",
    "| np.linspace(1, 4, 6) | torch.linspace(1, 4, 6)\n",
    "| np.logspace | torch.logspace\n",
    "\n",
    "#### Building Matrices\n",
    "| Numpy            | Torch |\n",
    "| --------------------|:-------------:|\n",
    "| np.diag | torch.diag\n",
    "| np.tril | torch.tril\n",
    "| np.triu | torch.triu\n",
    "\n",
    "#### Attributes\n",
    "| Numpy            | Torch |\n",
    "| --------------------|:-------------:|\n",
    "| x.shape | x:size()\n",
    "| x.strides | x:stride()\n",
    "| x.ndim | x:dim()\n",
    "| x.data | x:data()\n",
    "| x.size | x:nElement()\n",
    "| x.size == y.size | x:isSameSizeAs(y)\n",
    "| x.dtype | x:type()\n",
    "\n",
    "#### Indexing\n",
    "| Numpy            | Torch |\n",
    "| --------------------|:-------------:|\n",
    "\n",
    "#### Shape Manipulation\n",
    "| Numpy            | Torch |\n",
    "| --------------------|:-------------:|\n",
    "| x.reshape | x:reshape\n",
    "| x.resize | x:resize\n",
    "| ?        | x:resizeAs\n",
    "| x.transpose | x:transpose()\n",
    "| x.flatten   | x:view(x:nElement())\n",
    "| x.squeeze   | x:squeeze\n",
    "\n",
    "#### Item selection and manipulation\n",
    "| Numpy            | Torch |\n",
    "| --------------------|:-------------:|\n",
    "| np.take(a, indices) | a[indices]\n",
    "| x[:,0]  | x[{{},1}]\n",
    "| x.repeat | x:repeatTensor\n",
    "| x.fill | x:fill\n",
    "| np.sort | sorted, indices = torch.sort(x, [dim])\n",
    "| np.argsort | sorted, indices = torch.sort(x, [dim])\n",
    "| np.nonzero | torch.find(x:gt(0), 1) (torchx)\n",
    "\n",
    "#### Calculation\n",
    "| Numpy            | Torch |\n",
    "| --------------------|:-------------:|\n",
    "| ndarray.min | mins, indices = torch.min(x, [dim])\n",
    "| ndarray.argmin | mins, indices = torch.min(x, [dim])\n",
    "| ndarray.max | maxs, indices = torch.max(x, [dim])\n",
    "| ndarray.argmax | maxs, indices = torch.max(x, [dim])\n",
    "| ndarray.trace | torch.trace\n",
    "| ndarray.sum | torch.sum\n",
    "| ndarray.cumsum | torch.cumsum\n",
    "| ndarray.mean | torch.mean\n",
    "| ndarray.std | torch.std\n",
    "| ndarray.prod | torch.prod\n",
    "| ndarray.dot | torch.mm\n",
    "| ndarray.cumprod | torch.cumprod\n",
    "\n",
    "#### Arithmetic and comparison operations\n",
    "| Numpy            | Torch |\n",
    "| --------------------|:-------------:|\n",
    "| ndarray.__lt__ | torch.lt\n",
    "| ndarray.__le__ | torch.le\n",
    "| ndarray.__gt__ | torch.gt\n",
    "| ndarray.__ge__ | torch.ge\n",
    "| ndarray.__eq__ | torch.eq\n",
    "| ndarray.__ne__ | torch.ne"
   ]
  },
  {
   "cell_type": "code",
   "execution_count": 47,
   "metadata": {
    "collapsed": true
   },
   "outputs": [],
   "source": [
    "import torch"
   ]
  },
  {
   "cell_type": "code",
   "execution_count": 48,
   "metadata": {},
   "outputs": [
    {
     "name": "stdout",
     "output_type": "stream",
     "text": [
      "\n",
      "1.00000e-37 *\n",
      "  4.2534  0.0005  4.2534\n",
      "  0.0005  0.0000  0.0000\n",
      "  0.0000  0.0000  0.0000\n",
      "  0.0000  0.0000  0.0000\n",
      "  0.0000  0.0000  0.0000\n",
      "[torch.FloatTensor of size 5x3]\n",
      "\n"
     ]
    }
   ],
   "source": [
    "x = torch.Tensor(5, 3)\n",
    "print(x)"
   ]
  },
  {
   "cell_type": "code",
   "execution_count": 49,
   "metadata": {},
   "outputs": [
    {
     "name": "stdout",
     "output_type": "stream",
     "text": [
      "\n",
      " 0.5874  0.9967  0.3167\n",
      " 0.7605  0.6379  0.2840\n",
      " 0.0222  0.7009  0.1093\n",
      " 0.0739  0.1866  0.5300\n",
      " 0.4524  0.2793  0.5280\n",
      "[torch.FloatTensor of size 5x3]\n",
      "\n"
     ]
    }
   ],
   "source": [
    "x = torch.rand(5, 3)\n",
    "print(x)"
   ]
  },
  {
   "cell_type": "code",
   "execution_count": 50,
   "metadata": {},
   "outputs": [
    {
     "data": {
      "text/plain": [
       "torch.Size([5, 3])"
      ]
     },
     "execution_count": 50,
     "metadata": {},
     "output_type": "execute_result"
    }
   ],
   "source": [
    "x.size()"
   ]
  },
  {
   "cell_type": "code",
   "execution_count": 51,
   "metadata": {},
   "outputs": [
    {
     "name": "stdout",
     "output_type": "stream",
     "text": [
      "\n",
      " 0.9509  0.7148  0.2408\n",
      " 0.3739  1.0882  0.4189\n",
      " 1.2468  1.0874  0.8677\n",
      " 0.6483  0.5103  0.6464\n",
      " 1.6233  1.6770  0.9036\n",
      "[torch.FloatTensor of size 5x3]\n",
      "\n"
     ]
    }
   ],
   "source": [
    "x = torch.rand(5, 3)\n",
    "y = torch.rand(5, 3)\n",
    "print(x + y)"
   ]
  },
  {
   "cell_type": "code",
   "execution_count": 52,
   "metadata": {},
   "outputs": [
    {
     "name": "stdout",
     "output_type": "stream",
     "text": [
      "\n",
      " 3  3  3\n",
      " 3  3  3\n",
      " 3  3  3\n",
      " 3  3  3\n",
      " 3  3  3\n",
      "[torch.FloatTensor of size 5x3]\n",
      "\n"
     ]
    }
   ],
   "source": [
    "x = torch.ones(5, 3)*2\n",
    "y = torch.ones(5,1)\n",
    "\n",
    "print(x + y)"
   ]
  },
  {
   "cell_type": "markdown",
   "metadata": {},
   "source": [
    "#### Inplace operations\n",
    "\n",
    "- `torch.add(x, y, out=result)`\n",
    "\n",
    "\n",
    "Any operation that mutates a tensor in-place is post-fixed with an _ \n",
    "\n",
    "For example: `x.copy_(y), x.t_(),...` will change x.\n",
    "\n",
    "A description of the operations avaliable in torch can be found here:\n",
    "\n",
    "http://pytorch.org/docs/master/torch.html"
   ]
  },
  {
   "cell_type": "code",
   "execution_count": 53,
   "metadata": {},
   "outputs": [
    {
     "name": "stdout",
     "output_type": "stream",
     "text": [
      "\n",
      " 3  3  3\n",
      " 3  3  3\n",
      " 3  3  3\n",
      " 3  3  3\n",
      " 3  3  3\n",
      "[torch.FloatTensor of size 5x3]\n",
      "\n"
     ]
    }
   ],
   "source": [
    "result = torch.Tensor(5, 3)\n",
    "torch.add(x, y, out=result)\n",
    "print(result)"
   ]
  },
  {
   "cell_type": "code",
   "execution_count": 54,
   "metadata": {},
   "outputs": [
    {
     "name": "stdout",
     "output_type": "stream",
     "text": [
      "\n",
      " 2\n",
      " 2\n",
      " 2\n",
      " 2\n",
      " 2\n",
      "[torch.FloatTensor of size 5x1]\n",
      "\n"
     ]
    }
   ],
   "source": [
    "y = torch.ones(5,1)\n",
    "y.add_(y)\n",
    "print(y)"
   ]
  },
  {
   "cell_type": "markdown",
   "metadata": {},
   "source": [
    "### Compatibility between Numpy arrays and torch tensors\n",
    "\n",
    "You can cast a numpy `X` to a torch tensor by simply writting: `torch.Tensor(X)`"
   ]
  },
  {
   "cell_type": "code",
   "execution_count": 55,
   "metadata": {},
   "outputs": [
    {
     "name": "stdout",
     "output_type": "stream",
     "text": [
      "torch.Size([10])\n",
      "torch.Size([10, 1])\n"
     ]
    }
   ],
   "source": [
    "t = torch.Tensor(np.random.rand(10))\n",
    "print(t.size())\n",
    "\n",
    "t = torch.Tensor(np.random.rand(10, 1))\n",
    "print(t.size())"
   ]
  },
  {
   "cell_type": "markdown",
   "metadata": {},
   "source": [
    "You can cast from torch tensor to `np.ndarray` using `.numpy()`."
   ]
  },
  {
   "cell_type": "code",
   "execution_count": 59,
   "metadata": {},
   "outputs": [
    {
     "name": "stdout",
     "output_type": "stream",
     "text": [
      "torch array of size:  torch.Size([5]) \n",
      " 1\n",
      " 1\n",
      " 1\n",
      " 1\n",
      " 1\n",
      "[torch.FloatTensor of size 5]\n",
      "\n",
      "numpy array of size:  (5,) [ 1.  1.  1.  1.  1.]\n"
     ]
    }
   ],
   "source": [
    "a = torch.ones(5)\n",
    "print(\"torch array of size: \", a.size() , a)\n",
    "b = a.numpy()\n",
    "print(\"numpy array of size: \", b.shape, b)"
   ]
  },
  {
   "cell_type": "markdown",
   "metadata": {},
   "source": [
    "### Basic operations of torch arrays"
   ]
  },
  {
   "cell_type": "code",
   "execution_count": 61,
   "metadata": {},
   "outputs": [
    {
     "name": "stdout",
     "output_type": "stream",
     "text": [
      "\n",
      " 2\n",
      " 2\n",
      " 2\n",
      " 2\n",
      " 2\n",
      "[torch.FloatTensor of size 5]\n",
      "\n",
      "[ 2.  2.  2.  2.  2.]\n"
     ]
    }
   ],
   "source": [
    "a = torch.ones(5)\n",
    "a.add_(1)\n",
    "print(a)\n",
    "print(b)"
   ]
  },
  {
   "cell_type": "code",
   "execution_count": 62,
   "metadata": {},
   "outputs": [
    {
     "name": "stdout",
     "output_type": "stream",
     "text": [
      "[ 1.  1.  1.  1.  1.]\n",
      "\n",
      " 1\n",
      " 1\n",
      " 1\n",
      " 1\n",
      " 1\n",
      "[torch.DoubleTensor of size 5]\n",
      "\n"
     ]
    }
   ],
   "source": [
    "#Converting numpy Array to torch Tensor\n",
    "import numpy as np\n",
    "a = np.zeros(5)\n",
    "b = torch.from_numpy(a)\n",
    "np.add(a, 1, out=a)\n",
    "print(a)\n",
    "print(b)"
   ]
  },
  {
   "cell_type": "code",
   "execution_count": 12,
   "metadata": {
    "collapsed": true
   },
   "outputs": [],
   "source": [
    "# let us run this cell only if CUDA is available\n",
    "if torch.cuda.is_available():\n",
    "    x = x.cuda()\n",
    "    y = y.cuda()\n",
    "    x + y"
   ]
  },
  {
   "cell_type": "markdown",
   "metadata": {},
   "source": [
    "## Autograd\n",
    "\n",
    "The autograd package provides automatic differentiation for all operations on Tensors. It is a define-by-run framework, which means that your backprop is defined by how your code is run, and that every single iteration can be different."
   ]
  },
  {
   "cell_type": "code",
   "execution_count": null,
   "metadata": {},
   "outputs": [],
   "source": []
  },
  {
   "cell_type": "code",
   "execution_count": null,
   "metadata": {
    "collapsed": true
   },
   "outputs": [],
   "source": []
  },
  {
   "cell_type": "code",
   "execution_count": null,
   "metadata": {
    "collapsed": true
   },
   "outputs": [],
   "source": []
  }
 ],
 "metadata": {
  "kernelspec": {
   "display_name": "Python 3",
   "language": "python",
   "name": "python3"
  },
  "language_info": {
   "codemirror_mode": {
    "name": "ipython",
    "version": 3
   },
   "file_extension": ".py",
   "mimetype": "text/x-python",
   "name": "python",
   "nbconvert_exporter": "python",
   "pygments_lexer": "ipython3",
   "version": "3.6.1"
  }
 },
 "nbformat": 4,
 "nbformat_minor": 1
}
