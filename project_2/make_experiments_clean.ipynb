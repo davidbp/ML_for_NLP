{
 "cells": [
  {
   "cell_type": "markdown",
   "metadata": {},
   "source": [
    "# Experiments\n",
    "\n",
    "This notebook explains at a high level the experiments done in  the project and store the results to disc.\n",
    "\n",
    "Tables containing train and test results are stored as pandas dataframes.\n",
    "\n"
   ]
  },
  {
   "cell_type": "code",
   "execution_count": 152,
   "metadata": {},
   "outputs": [],
   "source": [
    "import os\n",
    "import pandas as pd\n",
    "import sklearn\n",
    "from sklearn import *\n",
    "%matplotlib inline"
   ]
  },
  {
   "cell_type": "code",
   "execution_count": 153,
   "metadata": {},
   "outputs": [],
   "source": [
    "data_path = \"./data/boston_house_prices.csv\"\n",
    "results_folder_path = \"./results\""
   ]
  },
  {
   "cell_type": "code",
   "execution_count": 154,
   "metadata": {},
   "outputs": [
    {
     "name": "stdout",
     "output_type": "stream",
     "text": [
      "\u001b[1m\u001b[34mdata\u001b[m\u001b[m                         nuria_model.py\r\n",
      "gerard_experiments.py        \u001b[1m\u001b[34mresults\u001b[m\u001b[m\r\n",
      "make_experiments.ipynb       stefan_model.py\r\n",
      "make_experiments_clean.ipynb\r\n"
     ]
    }
   ],
   "source": [
    "# scripts from the outside can be called with a \"!\"\n",
    "!ls"
   ]
  },
  {
   "cell_type": "code",
   "execution_count": 155,
   "metadata": {},
   "outputs": [
    {
     "name": "stdout",
     "output_type": "stream",
     "text": [
      "Data can be found\n"
     ]
    }
   ],
   "source": [
    "if os.path.exists(results_folder_path)==False:\n",
    "    os.mkdir(results_folder_path)\n",
    "    \n",
    "if os.path.exists(data_path):\n",
    "    print(\"Data can be found\")\n",
    "else:\n",
    "    print(\"ERROR: Data is missing\")"
   ]
  },
  {
   "cell_type": "markdown",
   "metadata": {},
   "source": [
    "## Stefan tries this\n",
    "\n",
    "Stefan really likes Neural nets so he tried to do a couple of models"
   ]
  },
  {
   "cell_type": "code",
   "execution_count": 156,
   "metadata": {
    "scrolled": true
   },
   "outputs": [
    {
     "name": "stdout",
     "output_type": "stream",
     "text": [
      " alpha=0.1, mse train : 1.3771549168994137\n",
      " alpha=0.1, mse test: 1.8493048429396208\n",
      " alpha=0.2, mse train : 18.835349397395486\n",
      " alpha=0.2, mse test: 22.001350924234433\n",
      " alpha=0.3, mse train : 0.9998234662109835\n",
      " alpha=0.3, mse test: 1.2087559594761164\n",
      "\n",
      "\tScript terminated, results written to ./results/stefan.csv file\n"
     ]
    }
   ],
   "source": [
    "!python stefan_model.py --data_path $data_path --results_path $results_folder_path"
   ]
  },
  {
   "cell_type": "markdown",
   "metadata": {},
   "source": [
    "## Nuria tries this\n",
    "\n",
    "Nuria really likes coordinate descent so she wanted to try lasso"
   ]
  },
  {
   "cell_type": "code",
   "execution_count": 157,
   "metadata": {},
   "outputs": [
    {
     "name": "stdout",
     "output_type": "stream",
     "text": [
      " alpha=0.1, mse train : 0.00015799465218634316\n",
      " alpha=0.1, mse test: 0.00022804365951318778\n",
      " alpha=0.12742749857031338, mse train : 0.00025498636053086044\n",
      " alpha=0.12742749857031338, mse test: 0.00036709776381183587\n",
      " alpha=0.16237767391887217, mse train : 0.00041242703219841043\n",
      " alpha=0.16237767391887217, mse test: 0.0005933173884089406\n",
      " alpha=0.20691380811147897, mse train : 0.0006848289383120258\n",
      " alpha=0.20691380811147897, mse test: 0.0009907292609585498\n",
      " alpha=0.26366508987303583, mse train : 0.0011000863302078156\n",
      " alpha=0.26366508987303583, mse test: 0.0015863954944949732\n",
      " alpha=0.33598182862837817, mse train : 0.001804307099419401\n",
      " alpha=0.33598182862837817, mse test: 0.0026095751301380087\n",
      " alpha=0.42813323987193935, mse train : 0.0029497370514197235\n",
      " alpha=0.42813323987193935, mse test: 0.004274414501054806\n",
      " alpha=0.5455594781168519, mse train : 0.004779591460583781\n",
      " alpha=0.5455594781168519, mse test: 0.006921779820985247\n",
      " alpha=0.6951927961775606, mse train : 0.007788591677071332\n",
      " alpha=0.6951927961775606, mse test: 0.011291325970024016\n",
      " alpha=0.8858667904100825, mse train : 0.012599039918516285\n",
      " alpha=0.8858667904100825, mse test: 0.018242080204861313\n",
      " alpha=1.1288378916846888, mse train : 0.020579273375976447\n",
      " alpha=1.1288378916846888, mse test: 0.029853114926308284\n",
      " alpha=1.438449888287663, mse train : 0.03341895075337052\n",
      " alpha=1.438449888287663, mse test: 0.04848112974403867\n",
      " alpha=1.8329807108324356, mse train : 0.054247889209586474\n",
      " alpha=1.8329807108324356, mse test: 0.07869300394284955\n",
      " alpha=2.3357214690901213, mse train : 0.08798800577643477\n",
      " alpha=2.3357214690901213, mse test: 0.1275978054711524\n",
      " alpha=2.9763514416313175, mse train : 0.14295522959765308\n",
      " alpha=2.9763514416313175, mse test: 0.20735274024865955\n",
      " alpha=3.79269019073225, mse train : 0.2320073067877585\n",
      " alpha=3.79269019073225, mse test: 0.33646784259246526\n",
      " alpha=4.832930238571752, mse train : 0.3768529597635265\n",
      " alpha=4.832930238571752, mse test: 0.5465902170046774\n",
      " alpha=6.158482110660261, mse train : 0.6120681758214982\n",
      " alpha=6.158482110660261, mse test: 0.8878117620505178\n",
      " alpha=7.847599703514611, mse train : 0.9939248653808523\n",
      " alpha=7.847599703514611, mse test: 1.4417305330423706\n",
      " alpha=10.0, mse train : 1.6139757258944192\n",
      " alpha=10.0, mse test: 2.3411732168704997\n",
      "\n",
      "\tScript terminated, results written to ./results/nuria_ideas.csv file\n"
     ]
    }
   ],
   "source": [
    "!python nuria_model.py --data_path $data_path --results_path $results_folder_path"
   ]
  },
  {
   "cell_type": "markdown",
   "metadata": {},
   "source": [
    "## Gerard experimetns"
   ]
  },
  {
   "cell_type": "code",
   "execution_count": 171,
   "metadata": {},
   "outputs": [
    {
     "name": "stdout",
     "output_type": "stream",
     "text": [
      " alpha=2.0, mse train : 0.06398153930612113\r\n",
      " alpha=2.0, mse test: 0.08979536655026821\r\n",
      " alpha=0.3, mse train : 0.001433909781992022\r\n",
      " alpha=0.3, mse test: 0.0020133779078603266\r\n",
      " alpha=0.5, mse train : 0.003963325597026473\r\n",
      " alpha=0.5, mse test: 0.005566588153046234\r\n",
      " alpha=0.2, mse train : 0.000635108918127186\r\n",
      " alpha=0.2, mse test: 0.0008918946551417658\r\n",
      "\r\n",
      "\tScript terminated, results written to ./results/gerard_script.csv file\r\n",
      "\tTime needed:  0.0002480983734130859 minutes\r\n"
     ]
    }
   ],
   "source": [
    "!python gerard_experiments.py --data_path $data_path --results_path $results_folder_path --alphas 2 0.3 0.5 0.2"
   ]
  },
  {
   "cell_type": "code",
   "execution_count": 174,
   "metadata": {},
   "outputs": [
    {
     "name": "stdout",
     "output_type": "stream",
     "text": [
      " alpha=2.0, mse train : 4.010582010582006\r\n",
      " alpha=2.0, mse test: 2.4031976688271235\r\n",
      " alpha=0.3, mse train : 0.09023809523809492\r\n",
      " alpha=0.3, mse test: 0.16814471631733208\r\n",
      " alpha=0.5, mse train : 0.2506613756613748\r\n",
      " alpha=0.5, mse test: 0.13187744099680973\r\n",
      " alpha=0.2, mse train : 0.04010582010582028\r\n",
      " alpha=0.2, mse test: 0.21619982212740751\r\n",
      "\r\n",
      "\tScript terminated, results written to ./results/gerard_script.csv file\r\n",
      "\tTime needed:  0.0006309668223063151 minutes\r\n"
     ]
    }
   ],
   "source": [
    "!python gerard_experiments.py --preprocess \"normalize\" --alphas 2 0.3 0.5 0.2"
   ]
  },
  {
   "cell_type": "code",
   "execution_count": 175,
   "metadata": {},
   "outputs": [
    {
     "name": "stdout",
     "output_type": "stream",
     "text": [
      " alpha=2.0, mse train : 0.05733963188862325\r\n",
      " alpha=2.0, mse test: 0.05467852317181313\r\n",
      " alpha=0.3, mse train : 0.0012440735594989117\r\n",
      " alpha=0.3, mse test: 0.0011913751866167647\r\n",
      " alpha=0.5, mse train : 0.0035293081430851653\r\n",
      " alpha=0.5, mse test: 0.003372118761695993\r\n",
      " alpha=0.2, mse train : 0.0004936609456626173\r\n",
      " alpha=0.2, mse test: 0.0004758006840348584\r\n",
      "\r\n",
      "\tScript terminated, results written to ./results/gerard_script.csv file\r\n",
      "\tTime needed:  0.00024968385696411133 minutes\r\n"
     ]
    }
   ],
   "source": [
    "!python gerard_experiments.py --alphas 2 0.3 0.5 0.2"
   ]
  },
  {
   "cell_type": "code",
   "execution_count": null,
   "metadata": {},
   "outputs": [],
   "source": []
  },
  {
   "cell_type": "markdown",
   "metadata": {},
   "source": [
    "\n",
    "### Results\n",
    "\n"
   ]
  },
  {
   "cell_type": "code",
   "execution_count": 159,
   "metadata": {},
   "outputs": [],
   "source": [
    "stefan = pd.read_csv(\"results/stefan.csv\")\n",
    "nuria = pd.read_csv(\"results/nuria_ideas.csv\")"
   ]
  },
  {
   "cell_type": "code",
   "execution_count": 160,
   "metadata": {},
   "outputs": [
    {
     "data": {
      "text/html": [
       "<div>\n",
       "<style scoped>\n",
       "    .dataframe tbody tr th:only-of-type {\n",
       "        vertical-align: middle;\n",
       "    }\n",
       "\n",
       "    .dataframe tbody tr th {\n",
       "        vertical-align: top;\n",
       "    }\n",
       "\n",
       "    .dataframe thead th {\n",
       "        text-align: right;\n",
       "    }\n",
       "</style>\n",
       "<table border=\"1\" class=\"dataframe\">\n",
       "  <thead>\n",
       "    <tr style=\"text-align: right;\">\n",
       "      <th></th>\n",
       "      <th>train</th>\n",
       "      <th>test</th>\n",
       "      <th>alpha</th>\n",
       "    </tr>\n",
       "  </thead>\n",
       "  <tbody>\n",
       "    <tr>\n",
       "      <th>0</th>\n",
       "      <td>1.377155</td>\n",
       "      <td>1.849305</td>\n",
       "      <td>0.1</td>\n",
       "    </tr>\n",
       "    <tr>\n",
       "      <th>1</th>\n",
       "      <td>18.835349</td>\n",
       "      <td>22.001351</td>\n",
       "      <td>0.2</td>\n",
       "    </tr>\n",
       "    <tr>\n",
       "      <th>2</th>\n",
       "      <td>0.999823</td>\n",
       "      <td>1.208756</td>\n",
       "      <td>0.3</td>\n",
       "    </tr>\n",
       "  </tbody>\n",
       "</table>\n",
       "</div>"
      ],
      "text/plain": [
       "       train       test  alpha\n",
       "0   1.377155   1.849305    0.1\n",
       "1  18.835349  22.001351    0.2\n",
       "2   0.999823   1.208756    0.3"
      ]
     },
     "execution_count": 160,
     "metadata": {},
     "output_type": "execute_result"
    }
   ],
   "source": [
    "# Table 2.1 in page 6\n",
    "stefan"
   ]
  },
  {
   "cell_type": "code",
   "execution_count": 161,
   "metadata": {},
   "outputs": [
    {
     "data": {
      "text/html": [
       "<div>\n",
       "<style scoped>\n",
       "    .dataframe tbody tr th:only-of-type {\n",
       "        vertical-align: middle;\n",
       "    }\n",
       "\n",
       "    .dataframe tbody tr th {\n",
       "        vertical-align: top;\n",
       "    }\n",
       "\n",
       "    .dataframe thead th {\n",
       "        text-align: right;\n",
       "    }\n",
       "</style>\n",
       "<table border=\"1\" class=\"dataframe\">\n",
       "  <thead>\n",
       "    <tr style=\"text-align: right;\">\n",
       "      <th></th>\n",
       "      <th>train</th>\n",
       "      <th>test</th>\n",
       "      <th>alpha</th>\n",
       "    </tr>\n",
       "  </thead>\n",
       "  <tbody>\n",
       "    <tr>\n",
       "      <th>0</th>\n",
       "      <td>0.000158</td>\n",
       "      <td>0.000228</td>\n",
       "      <td>0.100000</td>\n",
       "    </tr>\n",
       "    <tr>\n",
       "      <th>1</th>\n",
       "      <td>0.000255</td>\n",
       "      <td>0.000367</td>\n",
       "      <td>0.127427</td>\n",
       "    </tr>\n",
       "    <tr>\n",
       "      <th>2</th>\n",
       "      <td>0.000412</td>\n",
       "      <td>0.000593</td>\n",
       "      <td>0.162378</td>\n",
       "    </tr>\n",
       "    <tr>\n",
       "      <th>3</th>\n",
       "      <td>0.000685</td>\n",
       "      <td>0.000991</td>\n",
       "      <td>0.206914</td>\n",
       "    </tr>\n",
       "    <tr>\n",
       "      <th>4</th>\n",
       "      <td>0.001100</td>\n",
       "      <td>0.001586</td>\n",
       "      <td>0.263665</td>\n",
       "    </tr>\n",
       "    <tr>\n",
       "      <th>5</th>\n",
       "      <td>0.001804</td>\n",
       "      <td>0.002610</td>\n",
       "      <td>0.335982</td>\n",
       "    </tr>\n",
       "    <tr>\n",
       "      <th>6</th>\n",
       "      <td>0.002950</td>\n",
       "      <td>0.004274</td>\n",
       "      <td>0.428133</td>\n",
       "    </tr>\n",
       "    <tr>\n",
       "      <th>7</th>\n",
       "      <td>0.004780</td>\n",
       "      <td>0.006922</td>\n",
       "      <td>0.545559</td>\n",
       "    </tr>\n",
       "    <tr>\n",
       "      <th>8</th>\n",
       "      <td>0.007789</td>\n",
       "      <td>0.011291</td>\n",
       "      <td>0.695193</td>\n",
       "    </tr>\n",
       "    <tr>\n",
       "      <th>9</th>\n",
       "      <td>0.012599</td>\n",
       "      <td>0.018242</td>\n",
       "      <td>0.885867</td>\n",
       "    </tr>\n",
       "    <tr>\n",
       "      <th>10</th>\n",
       "      <td>0.020579</td>\n",
       "      <td>0.029853</td>\n",
       "      <td>1.128838</td>\n",
       "    </tr>\n",
       "    <tr>\n",
       "      <th>11</th>\n",
       "      <td>0.033419</td>\n",
       "      <td>0.048481</td>\n",
       "      <td>1.438450</td>\n",
       "    </tr>\n",
       "    <tr>\n",
       "      <th>12</th>\n",
       "      <td>0.054248</td>\n",
       "      <td>0.078693</td>\n",
       "      <td>1.832981</td>\n",
       "    </tr>\n",
       "    <tr>\n",
       "      <th>13</th>\n",
       "      <td>0.087988</td>\n",
       "      <td>0.127598</td>\n",
       "      <td>2.335721</td>\n",
       "    </tr>\n",
       "    <tr>\n",
       "      <th>14</th>\n",
       "      <td>0.142955</td>\n",
       "      <td>0.207353</td>\n",
       "      <td>2.976351</td>\n",
       "    </tr>\n",
       "    <tr>\n",
       "      <th>15</th>\n",
       "      <td>0.232007</td>\n",
       "      <td>0.336468</td>\n",
       "      <td>3.792690</td>\n",
       "    </tr>\n",
       "    <tr>\n",
       "      <th>16</th>\n",
       "      <td>0.376853</td>\n",
       "      <td>0.546590</td>\n",
       "      <td>4.832930</td>\n",
       "    </tr>\n",
       "    <tr>\n",
       "      <th>17</th>\n",
       "      <td>0.612068</td>\n",
       "      <td>0.887812</td>\n",
       "      <td>6.158482</td>\n",
       "    </tr>\n",
       "    <tr>\n",
       "      <th>18</th>\n",
       "      <td>0.993925</td>\n",
       "      <td>1.441731</td>\n",
       "      <td>7.847600</td>\n",
       "    </tr>\n",
       "    <tr>\n",
       "      <th>19</th>\n",
       "      <td>1.613976</td>\n",
       "      <td>2.341173</td>\n",
       "      <td>10.000000</td>\n",
       "    </tr>\n",
       "  </tbody>\n",
       "</table>\n",
       "</div>"
      ],
      "text/plain": [
       "       train      test      alpha\n",
       "0   0.000158  0.000228   0.100000\n",
       "1   0.000255  0.000367   0.127427\n",
       "2   0.000412  0.000593   0.162378\n",
       "3   0.000685  0.000991   0.206914\n",
       "4   0.001100  0.001586   0.263665\n",
       "5   0.001804  0.002610   0.335982\n",
       "6   0.002950  0.004274   0.428133\n",
       "7   0.004780  0.006922   0.545559\n",
       "8   0.007789  0.011291   0.695193\n",
       "9   0.012599  0.018242   0.885867\n",
       "10  0.020579  0.029853   1.128838\n",
       "11  0.033419  0.048481   1.438450\n",
       "12  0.054248  0.078693   1.832981\n",
       "13  0.087988  0.127598   2.335721\n",
       "14  0.142955  0.207353   2.976351\n",
       "15  0.232007  0.336468   3.792690\n",
       "16  0.376853  0.546590   4.832930\n",
       "17  0.612068  0.887812   6.158482\n",
       "18  0.993925  1.441731   7.847600\n",
       "19  1.613976  2.341173  10.000000"
      ]
     },
     "execution_count": 161,
     "metadata": {},
     "output_type": "execute_result"
    }
   ],
   "source": [
    "# Table 3.1 in page 7\n",
    "nuria"
   ]
  },
  {
   "cell_type": "code",
   "execution_count": 162,
   "metadata": {
    "scrolled": true
   },
   "outputs": [],
   "source": [
    "nuria_alpha = nuria.set_index(\"alpha\")"
   ]
  },
  {
   "cell_type": "code",
   "execution_count": 163,
   "metadata": {},
   "outputs": [
    {
     "data": {
      "text/plain": [
       "<matplotlib.axes._subplots.AxesSubplot at 0x1a28a58128>"
      ]
     },
     "execution_count": 163,
     "metadata": {},
     "output_type": "execute_result"
    },
    {
     "data": {
      "image/png": "[encoded data removed]",
      "text/plain": [
       "<Figure size 432x288 with 1 Axes>"
      ]
     },
     "metadata": {
      "needs_background": "light"
     },
     "output_type": "display_data"
    }
   ],
   "source": [
    "# don't need a plot if there is the table \n",
    "nuria_alpha.iloc[0:6].plot(kind=\"bar\")"
   ]
  },
  {
   "cell_type": "code",
   "execution_count": 164,
   "metadata": {},
   "outputs": [
    {
     "data": {
      "text/html": [
       "<div>\n",
       "<style scoped>\n",
       "    .dataframe tbody tr th:only-of-type {\n",
       "        vertical-align: middle;\n",
       "    }\n",
       "\n",
       "    .dataframe tbody tr th {\n",
       "        vertical-align: top;\n",
       "    }\n",
       "\n",
       "    .dataframe thead th {\n",
       "        text-align: right;\n",
       "    }\n",
       "</style>\n",
       "<table border=\"1\" class=\"dataframe\">\n",
       "  <thead>\n",
       "    <tr style=\"text-align: right;\">\n",
       "      <th></th>\n",
       "      <th>train</th>\n",
       "      <th>test</th>\n",
       "      <th>alpha</th>\n",
       "    </tr>\n",
       "  </thead>\n",
       "  <tbody>\n",
       "    <tr>\n",
       "      <th>0</th>\n",
       "      <td>0.000158</td>\n",
       "      <td>0.000228</td>\n",
       "      <td>0.100000</td>\n",
       "    </tr>\n",
       "    <tr>\n",
       "      <th>1</th>\n",
       "      <td>0.000255</td>\n",
       "      <td>0.000367</td>\n",
       "      <td>0.127427</td>\n",
       "    </tr>\n",
       "    <tr>\n",
       "      <th>2</th>\n",
       "      <td>0.000412</td>\n",
       "      <td>0.000593</td>\n",
       "      <td>0.162378</td>\n",
       "    </tr>\n",
       "    <tr>\n",
       "      <th>3</th>\n",
       "      <td>0.000685</td>\n",
       "      <td>0.000991</td>\n",
       "      <td>0.206914</td>\n",
       "    </tr>\n",
       "    <tr>\n",
       "      <th>4</th>\n",
       "      <td>0.001100</td>\n",
       "      <td>0.001586</td>\n",
       "      <td>0.263665</td>\n",
       "    </tr>\n",
       "    <tr>\n",
       "      <th>5</th>\n",
       "      <td>0.001804</td>\n",
       "      <td>0.002610</td>\n",
       "      <td>0.335982</td>\n",
       "    </tr>\n",
       "    <tr>\n",
       "      <th>6</th>\n",
       "      <td>0.002950</td>\n",
       "      <td>0.004274</td>\n",
       "      <td>0.428133</td>\n",
       "    </tr>\n",
       "    <tr>\n",
       "      <th>7</th>\n",
       "      <td>0.004780</td>\n",
       "      <td>0.006922</td>\n",
       "      <td>0.545559</td>\n",
       "    </tr>\n",
       "    <tr>\n",
       "      <th>8</th>\n",
       "      <td>0.007789</td>\n",
       "      <td>0.011291</td>\n",
       "      <td>0.695193</td>\n",
       "    </tr>\n",
       "    <tr>\n",
       "      <th>9</th>\n",
       "      <td>0.012599</td>\n",
       "      <td>0.018242</td>\n",
       "      <td>0.885867</td>\n",
       "    </tr>\n",
       "    <tr>\n",
       "      <th>10</th>\n",
       "      <td>0.020579</td>\n",
       "      <td>0.029853</td>\n",
       "      <td>1.128838</td>\n",
       "    </tr>\n",
       "    <tr>\n",
       "      <th>11</th>\n",
       "      <td>0.033419</td>\n",
       "      <td>0.048481</td>\n",
       "      <td>1.438450</td>\n",
       "    </tr>\n",
       "    <tr>\n",
       "      <th>12</th>\n",
       "      <td>0.054248</td>\n",
       "      <td>0.078693</td>\n",
       "      <td>1.832981</td>\n",
       "    </tr>\n",
       "    <tr>\n",
       "      <th>13</th>\n",
       "      <td>0.087988</td>\n",
       "      <td>0.127598</td>\n",
       "      <td>2.335721</td>\n",
       "    </tr>\n",
       "    <tr>\n",
       "      <th>14</th>\n",
       "      <td>0.142955</td>\n",
       "      <td>0.207353</td>\n",
       "      <td>2.976351</td>\n",
       "    </tr>\n",
       "    <tr>\n",
       "      <th>15</th>\n",
       "      <td>0.232007</td>\n",
       "      <td>0.336468</td>\n",
       "      <td>3.792690</td>\n",
       "    </tr>\n",
       "    <tr>\n",
       "      <th>16</th>\n",
       "      <td>0.376853</td>\n",
       "      <td>0.546590</td>\n",
       "      <td>4.832930</td>\n",
       "    </tr>\n",
       "    <tr>\n",
       "      <th>17</th>\n",
       "      <td>0.612068</td>\n",
       "      <td>0.887812</td>\n",
       "      <td>6.158482</td>\n",
       "    </tr>\n",
       "    <tr>\n",
       "      <th>18</th>\n",
       "      <td>0.993925</td>\n",
       "      <td>1.441731</td>\n",
       "      <td>7.847600</td>\n",
       "    </tr>\n",
       "    <tr>\n",
       "      <th>19</th>\n",
       "      <td>1.613976</td>\n",
       "      <td>2.341173</td>\n",
       "      <td>10.000000</td>\n",
       "    </tr>\n",
       "  </tbody>\n",
       "</table>\n",
       "</div>"
      ],
      "text/plain": [
       "       train      test      alpha\n",
       "0   0.000158  0.000228   0.100000\n",
       "1   0.000255  0.000367   0.127427\n",
       "2   0.000412  0.000593   0.162378\n",
       "3   0.000685  0.000991   0.206914\n",
       "4   0.001100  0.001586   0.263665\n",
       "5   0.001804  0.002610   0.335982\n",
       "6   0.002950  0.004274   0.428133\n",
       "7   0.004780  0.006922   0.545559\n",
       "8   0.007789  0.011291   0.695193\n",
       "9   0.012599  0.018242   0.885867\n",
       "10  0.020579  0.029853   1.128838\n",
       "11  0.033419  0.048481   1.438450\n",
       "12  0.054248  0.078693   1.832981\n",
       "13  0.087988  0.127598   2.335721\n",
       "14  0.142955  0.207353   2.976351\n",
       "15  0.232007  0.336468   3.792690\n",
       "16  0.376853  0.546590   4.832930\n",
       "17  0.612068  0.887812   6.158482\n",
       "18  0.993925  1.441731   7.847600\n",
       "19  1.613976  2.341173  10.000000"
      ]
     },
     "execution_count": 164,
     "metadata": {},
     "output_type": "execute_result"
    }
   ],
   "source": [
    "nuria"
   ]
  },
  {
   "cell_type": "code",
   "execution_count": null,
   "metadata": {},
   "outputs": [],
   "source": []
  },
  {
   "cell_type": "code",
   "execution_count": null,
   "metadata": {},
   "outputs": [],
   "source": []
  },
  {
   "cell_type": "code",
   "execution_count": null,
   "metadata": {},
   "outputs": [],
   "source": []
  }
 ],
 "metadata": {
  "kernelspec": {
   "display_name": "Python 3",
   "language": "python",
   "name": "python3"
  },
  "language_info": {
   "codemirror_mode": {
    "name": "ipython",
    "version": 3
   },
   "file_extension": ".py",
   "mimetype": "text/x-python",
   "name": "python",
   "nbconvert_exporter": "python",
   "pygments_lexer": "ipython3",
   "version": "3.7.3"
  },
  "toc": {
   "base_numbering": 1,
   "nav_menu": {},
   "number_sections": true,
   "sideBar": true,
   "skip_h1_title": false,
   "title_cell": "Table of Contents",
   "title_sidebar": "Contents",
   "toc_cell": false,
   "toc_position": {},
   "toc_section_display": true,
   "toc_window_display": false
  }
 },
 "nbformat": 4,
 "nbformat_minor": 2
}
