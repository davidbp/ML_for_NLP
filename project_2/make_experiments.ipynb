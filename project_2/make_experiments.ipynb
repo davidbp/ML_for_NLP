{
 "cells": [
  {
   "cell_type": "markdown",
   "metadata": {},
   "source": [
    "# Experiments\n",
    "\n",
    "This notebook explains at a high level the experiments done in  the project and store the results to disc.\n",
    "\n",
    "Tables containing train and test results are stored as pandas dataframes.\n",
    "\n",
    "\n",
    "\n"
   ]
  },
  {
   "cell_type": "code",
   "execution_count": 149,
   "metadata": {},
   "outputs": [],
   "source": [
    "import os\n",
    "import pandas as pd\n",
    "import sklearn\n",
    "from sklearn import *\n",
    "import numpy as np"
   ]
  },
  {
   "cell_type": "code",
   "execution_count": 135,
   "metadata": {},
   "outputs": [],
   "source": [
    "data_path = \"./data/boston_house_prices.csv\"\n",
    "results_folder_path = \"./results\""
   ]
  },
  {
   "cell_type": "code",
   "execution_count": 136,
   "metadata": {},
   "outputs": [
    {
     "name": "stdout",
     "output_type": "stream",
     "text": [
      "\u001b[1m\u001b[34mdata\u001b[m\u001b[m                   \u001b[1m\u001b[34mresults\u001b[m\u001b[m\r\n",
      "make_experiments.ipynb stefan_model.py\r\n"
     ]
    }
   ],
   "source": [
    "# scripts from the outside can be called with a \"!\"\n",
    "!ls"
   ]
  },
  {
   "cell_type": "code",
   "execution_count": 140,
   "metadata": {},
   "outputs": [
    {
     "name": "stdout",
     "output_type": "stream",
     "text": [
      "Data can be found\n"
     ]
    }
   ],
   "source": [
    "if os.path.exists(data_path):\n",
    "    print(\"Data can be found\")\n",
    "else:\n",
    "    print(\"ERROR: Data is missing\")"
   ]
  },
  {
   "cell_type": "code",
   "execution_count": 138,
   "metadata": {},
   "outputs": [],
   "source": [
    "df = pd.read_csv(data_path,  header=1)"
   ]
  },
  {
   "cell_type": "code",
   "execution_count": 60,
   "metadata": {},
   "outputs": [],
   "source": [
    "df_Y = df[[\"MEDV\"]]\n",
    "df_X = df[set(df.columns) - set(\"MEDV\")]"
   ]
  },
  {
   "cell_type": "code",
   "execution_count": 112,
   "metadata": {},
   "outputs": [],
   "source": [
    "df_X_train, df_X_test, df_Y_train, df_Y_test = sklearn.model_selection.train_test_split(df_X, df_Y)\n",
    "y_test = df_Y_test.values"
   ]
  },
  {
   "cell_type": "markdown",
   "metadata": {},
   "source": [
    "## Stefan tries this"
   ]
  },
  {
   "cell_type": "code",
   "execution_count": 113,
   "metadata": {},
   "outputs": [],
   "source": [
    "l = sklearn.linear_model.LinearRegression()"
   ]
  },
  {
   "cell_type": "code",
   "execution_count": 114,
   "metadata": {},
   "outputs": [],
   "source": [
    "C = [0.1,0.2,0.3]"
   ]
  },
  {
   "cell_type": "code",
   "execution_count": 115,
   "metadata": {},
   "outputs": [],
   "source": [
    "l.fit(df_X_train, df_Y_train)\n",
    "y_hat =  l.predict(df_X_test)"
   ]
  },
  {
   "cell_type": "code",
   "execution_count": 183,
   "metadata": {
    "scrolled": true
   },
   "outputs": [
    {
     "data": {
      "text/plain": [
       "5.097656438557322e-28"
      ]
     },
     "execution_count": 183,
     "metadata": {},
     "output_type": "execute_result"
    }
   ],
   "source": [
    "sklearn.metrics.mean_squared_error(y_test, y_hat)"
   ]
  },
  {
   "cell_type": "code",
   "execution_count": 167,
   "metadata": {},
   "outputs": [
    {
     "name": "stderr",
     "output_type": "stream",
     "text": [
      "/anaconda3/lib/python3.7/site-packages/sklearn/neural_network/multilayer_perceptron.py:1316: DataConversionWarning: A column-vector y was passed when a 1d array was expected. Please change the shape of y to (n_samples, ), for example using ravel().\n",
      "  y = column_or_1d(y, warn=True)\n",
      "/anaconda3/lib/python3.7/site-packages/sklearn/neural_network/multilayer_perceptron.py:562: ConvergenceWarning: Stochastic Optimizer: Maximum iterations (200) reached and the optimization hasn't converged yet.\n",
      "  % self.max_iter, ConvergenceWarning)\n",
      "/anaconda3/lib/python3.7/site-packages/sklearn/neural_network/multilayer_perceptron.py:1316: DataConversionWarning: A column-vector y was passed when a 1d array was expected. Please change the shape of y to (n_samples, ), for example using ravel().\n",
      "  y = column_or_1d(y, warn=True)\n"
     ]
    },
    {
     "name": "stdout",
     "output_type": "stream",
     "text": [
      "mse train: 2.4447905593748755\n",
      "mse test: 3.241689431883793\n",
      "mse train: 1.534254312898122\n",
      "mse test: 1.5176545573855937\n",
      "mse train: 2.8282655123555904\n",
      "mse test: 3.28579793307433\n"
     ]
    },
    {
     "name": "stderr",
     "output_type": "stream",
     "text": [
      "/anaconda3/lib/python3.7/site-packages/sklearn/neural_network/multilayer_perceptron.py:562: ConvergenceWarning: Stochastic Optimizer: Maximum iterations (200) reached and the optimization hasn't converged yet.\n",
      "  % self.max_iter, ConvergenceWarning)\n",
      "/anaconda3/lib/python3.7/site-packages/sklearn/neural_network/multilayer_perceptron.py:1316: DataConversionWarning: A column-vector y was passed when a 1d array was expected. Please change the shape of y to (n_samples, ), for example using ravel().\n",
      "  y = column_or_1d(y, warn=True)\n",
      "/anaconda3/lib/python3.7/site-packages/sklearn/neural_network/multilayer_perceptron.py:562: ConvergenceWarning: Stochastic Optimizer: Maximum iterations (200) reached and the optimization hasn't converged yet.\n",
      "  % self.max_iter, ConvergenceWarning)\n"
     ]
    }
   ],
   "source": [
    "# stefan likes linear regressors so he tests one\n",
    "y_tsrain = df_Y_train.values\n",
    "y_test = df_Y_test.values\n",
    "    \n",
    "C = [0.1,0.2,0.3]\n",
    "results_train = {}\n",
    "results_test = {}\n",
    "for c in C:\n",
    "    l = sklearn.neural_network.MLPRegressor(alpha=c)\n",
    "    l.fit(df_X_train, df_Y_train)\n",
    "\n",
    "    y_hat_train =  l.predict(df_X_train)\n",
    "    mse_train = sklearn.metrics.mean_squared_error(y_train, y_hat_train)\n",
    "    print(\"mse train: {}\".format(mse_train))\n",
    "    results_train[c] = mse_train\n",
    "\n",
    "    y_hat_test =  l.predict(df_X_test)\n",
    "    mse_test = sklearn.metrics.mean_squared_error(y_test, y_hat_test)\n",
    "    print(\"mse test: {}\".format(mse_test))  \n",
    "    results_test[c] = mse_test\n",
    "    "
   ]
  },
  {
   "cell_type": "code",
   "execution_count": 168,
   "metadata": {},
   "outputs": [],
   "source": [
    "df_results = pd.DataFrame({\"train\":results_train, \"test\": results_test})"
   ]
  },
  {
   "cell_type": "code",
   "execution_count": 169,
   "metadata": {},
   "outputs": [],
   "source": [
    "if os.path.exists(results_folder_path)==False:\n",
    "    os.mkdir(results_folder_path)"
   ]
  },
  {
   "cell_type": "code",
   "execution_count": 170,
   "metadata": {},
   "outputs": [],
   "source": [
    "df_results.to_csv(\"./results/stefan.csv\")"
   ]
  },
  {
   "cell_type": "code",
   "execution_count": 171,
   "metadata": {},
   "outputs": [
    {
     "data": {
      "text/html": [
       "<div>\n",
       "<style scoped>\n",
       "    .dataframe tbody tr th:only-of-type {\n",
       "        vertical-align: middle;\n",
       "    }\n",
       "\n",
       "    .dataframe tbody tr th {\n",
       "        vertical-align: top;\n",
       "    }\n",
       "\n",
       "    .dataframe thead th {\n",
       "        text-align: right;\n",
       "    }\n",
       "</style>\n",
       "<table border=\"1\" class=\"dataframe\">\n",
       "  <thead>\n",
       "    <tr style=\"text-align: right;\">\n",
       "      <th></th>\n",
       "      <th>train</th>\n",
       "      <th>test</th>\n",
       "    </tr>\n",
       "  </thead>\n",
       "  <tbody>\n",
       "    <tr>\n",
       "      <th>0.1</th>\n",
       "      <td>2.444791</td>\n",
       "      <td>3.241689</td>\n",
       "    </tr>\n",
       "    <tr>\n",
       "      <th>0.2</th>\n",
       "      <td>1.534254</td>\n",
       "      <td>1.517655</td>\n",
       "    </tr>\n",
       "    <tr>\n",
       "      <th>0.3</th>\n",
       "      <td>2.828266</td>\n",
       "      <td>3.285798</td>\n",
       "    </tr>\n",
       "  </tbody>\n",
       "</table>\n",
       "</div>"
      ],
      "text/plain": [
       "        train      test\n",
       "0.1  2.444791  3.241689\n",
       "0.2  1.534254  1.517655\n",
       "0.3  2.828266  3.285798"
      ]
     },
     "execution_count": 171,
     "metadata": {},
     "output_type": "execute_result"
    }
   ],
   "source": [
    "df_results"
   ]
  },
  {
   "cell_type": "markdown",
   "metadata": {},
   "source": [
    "### Nuria tried this"
   ]
  },
  {
   "cell_type": "code",
   "execution_count": 172,
   "metadata": {},
   "outputs": [
    {
     "name": "stdout",
     "output_type": "stream",
     "text": [
      " alpha=0.1, mse train : 0.0001490521077630949\n",
      " alpha=0.1, mse test: 0.0\n",
      " alpha=0.12742749857031338, mse train : 0.00022664983345951673\n",
      " alpha=0.12742749857031338, mse test: 0.0\n",
      " alpha=0.16237767391887217, mse train : 0.0003877073708715545\n",
      " alpha=0.16237767391887217, mse test: 0.0\n",
      " alpha=0.20691380811147897, mse train : 0.0006011335993561051\n",
      " alpha=0.20691380811147897, mse test: 0.0\n",
      " alpha=0.26366508987303583, mse train : 0.001082700784752639\n",
      " alpha=0.26366508987303583, mse test: 0.0\n",
      " alpha=0.33598182862837817, mse train : 0.0016209416841847489\n",
      " alpha=0.33598182862837817, mse test: 0.0\n",
      " alpha=0.42813323987193935, mse train : 0.0028535261037429508\n",
      " alpha=0.42813323987193935, mse test: 0.0\n",
      " alpha=0.5455594781168519, mse train : 0.0043005827274260845\n",
      " alpha=0.5455594781168519, mse test: 0.0\n",
      " alpha=0.6951927961775606, mse train : 0.007594627303977338\n",
      " alpha=0.6951927961775606, mse test: 0.0\n",
      " alpha=0.8858667904100825, mse train : 0.012347776194568411\n",
      " alpha=0.8858667904100825, mse test: 0.0\n",
      " alpha=1.1288378916846888, mse train : 0.020025279323432073\n",
      " alpha=1.1288378916846888, mse test: 0.0\n",
      " alpha=1.438449888287663, mse train : 0.032553238972734565\n",
      " alpha=1.438449888287663, mse test: 0.0\n",
      " alpha=1.8329807108324356, mse train : 0.05286759793000377\n",
      " alpha=1.8329807108324356, mse test: 0.0\n",
      " alpha=2.3357214690901213, mse train : 0.0857762897785215\n",
      " alpha=2.3357214690901213, mse test: 0.0\n",
      " alpha=2.9763514416313175, mse train : 0.13933486141019827\n",
      " alpha=2.9763514416313175, mse test: 0.0\n",
      " alpha=3.79269019073225, mse train : 0.2262331155829075\n",
      " alpha=3.79269019073225, mse test: 0.0\n",
      " alpha=4.832930238571752, mse train : 0.3675621921311206\n",
      " alpha=4.832930238571752, mse test: 0.0\n",
      " alpha=6.158482110660261, mse train : 0.5968091011060912\n",
      " alpha=6.158482110660261, mse test: 0.0\n",
      " alpha=7.847599703514611, mse train : 0.9584451822205984\n",
      " alpha=7.847599703514611, mse test: 0.0\n",
      " alpha=10.0, mse train : 1.562492129632158\n",
      " alpha=10.0, mse test: 0.0\n"
     ]
    }
   ],
   "source": [
    "C = np.logspace(-1, 1, num=20)\n",
    "results_train = {}\n",
    "results_test = {}\n",
    "\n",
    "for c in C:\n",
    "    l = sklearn.linear_model.Lasso(alpha=c, tol=0.001)\n",
    "    l.fit(df_X_train, y_train)\n",
    "\n",
    "    y_hat_train =  l.predict(df_X_train)\n",
    "    mse_train = sklearn.metrics.mean_squared_error(y_train, y_hat_train)\n",
    "    print(\" alpha={}, mse train : {}\".format(c,mse_train))\n",
    "    results_train[c] = mse_train\n",
    "\n",
    "    y_hat_test =  l.predict(df_X_test)\n",
    "    mse_test = sklearn.metrics.mean_squared_error(y_test, y_test)\n",
    "    print(\" alpha={}, mse test: {}\".format(c, mse_test))  \n",
    "    results_test[c] = mse_test\n",
    "\n",
    "\n",
    "df_results = pd.DataFrame({\"train\":results_train, \"test\": results_test})"
   ]
  },
  {
   "cell_type": "code",
   "execution_count": null,
   "metadata": {},
   "outputs": [],
   "source": []
  },
  {
   "cell_type": "code",
   "execution_count": null,
   "metadata": {},
   "outputs": [],
   "source": []
  },
  {
   "cell_type": "code",
   "execution_count": null,
   "metadata": {},
   "outputs": [],
   "source": []
  },
  {
   "cell_type": "code",
   "execution_count": null,
   "metadata": {},
   "outputs": [],
   "source": []
  }
 ],
 "metadata": {
  "kernelspec": {
   "display_name": "Python 3",
   "language": "python",
   "name": "python3"
  },
  "language_info": {
   "codemirror_mode": {
    "name": "ipython",
    "version": 3
   },
   "file_extension": ".py",
   "mimetype": "text/x-python",
   "name": "python",
   "nbconvert_exporter": "python",
   "pygments_lexer": "ipython3",
   "version": "3.7.3"
  },
  "toc": {
   "base_numbering": 1,
   "nav_menu": {},
   "number_sections": true,
   "sideBar": true,
   "skip_h1_title": false,
   "title_cell": "Table of Contents",
   "title_sidebar": "Contents",
   "toc_cell": false,
   "toc_position": {},
   "toc_section_display": true,
   "toc_window_display": false
  }
 },
 "nbformat": 4,
 "nbformat_minor": 2
}
